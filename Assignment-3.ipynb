{
 "cells": [
  {
   "cell_type": "markdown",
   "id": "f655e8b0-619f-4e86-82b0-f29a3c2f6086",
   "metadata": {},
   "source": [
    "Q1. Why are functions advantageous to have in your programs?\n",
    "Ans:-  \n",
    "The advantages of using functions are:\n",
    "    Avoid repetition of codes.\n",
    "    Increases program readability and modularity\n",
    "    Divide a complex problem into simpler ones.\n",
    "    Reduces chances of error.\n",
    "    Modifying a program becomes easier by using function.\n",
    "\n",
    "    "
   ]
  },
  {
   "cell_type": "markdown",
   "id": "d77dfabf-2fbc-41ee-b01e-941fbf7bc590",
   "metadata": {},
   "source": [
    "Q2. When does the code in a function run: when it's specified or when it's called?\n",
    "Ans:- \n",
    "     The code in a function executes when the function is called, not when the function is defined."
   ]
  },
  {
   "cell_type": "markdown",
   "id": "69b448d6-5f32-4066-a2c4-7a381a90c60f",
   "metadata": {},
   "source": [
    "Q3. What statement creates a function?\n",
    "\n",
    "Ans:- The def functionName() createes a function\n",
    "\n"
   ]
  },
  {
   "cell_type": "markdown",
   "id": "1483c0a1-0f3b-4812-9584-ba8eedad32c6",
   "metadata": {},
   "source": [
    "Q4. What is the difference between a function and a function call?\n",
    "Ans:- \n",
    "      A function : is a block of code that does a particular operation and returns a result. It usually accepts inputs as \n",
    "parameters and returns a result. The parameters are not mandatory. \n",
    "\n",
    "A Function call : is the code used to pass control to a function\n"
   ]
  },
  {
   "cell_type": "markdown",
   "id": "bf1f01a1-ddc5-4849-8437-48a5f63a05c6",
   "metadata": {},
   "source": [
    "Q5. How many global scopes are there in a Python program? How many local scopes?\n",
    "Ans:-\n",
    "    There is one global scope, and a local scope is created whenever a function is called.\n",
    "\n"
   ]
  },
  {
   "cell_type": "markdown",
   "id": "f2486db8-9239-4979-8f02-013ef3fe4f10",
   "metadata": {},
   "source": [
    "Q6. What happens to variables in a local scope when the function call returns?\n",
    "Ans:- \n",
    "     When a function returns, the local scope is destroyed, and all the variables in it are forgotten. we will not be able to access the out side the function\n"
   ]
  },
  {
   "cell_type": "markdown",
   "id": "4428773f-60db-4e32-890a-e0d1bbc99e20",
   "metadata": {},
   "source": [
    "Q7. What is the concept of a return value? Is it possible to have a return value in an expression?\n",
    "Ans:-\n",
    "     A return value is the value that a function call evaluates to. A return value can be used as part of an expression, Like any value"
   ]
  },
  {
   "cell_type": "markdown",
   "id": "fa200a0c-c49c-4984-a221-0576bf176a16",
   "metadata": {},
   "source": [
    "Q8. If a function does not have a return statement, what is the return value of a call to that function?\n",
    "Ans:-\n",
    "       If there is no return statement for a function, its return value is None.\n",
    "\n"
   ]
  },
  {
   "cell_type": "markdown",
   "id": "762073ac-1621-4c85-8003-81e3fbc08332",
   "metadata": {},
   "source": [
    "Q9. How do you make a function variable refer to the global variable?\n",
    "Ans:- \n",
    "     A global statement will force a variable in a function to refer to the global variable."
   ]
  },
  {
   "cell_type": "markdown",
   "id": "74ffc597-5321-40aa-8aac-ddf57592f7e5",
   "metadata": {},
   "source": [
    "Q10. What is the data type of None?\n",
    "Ans:-\n",
    "     The data type of None is NoneType."
   ]
  },
  {
   "cell_type": "markdown",
   "id": "e8c5d489-cc8c-4134-934d-011479067199",
   "metadata": {},
   "source": [
    "Q11. What does the sentence import areallyourpetsnamederic do?\n",
    "\n",
    "Ans:-\n",
    "    areallyourpetsnamederic ia not a python module That import statement imports a module named areallyourpetsnamederic."
   ]
  },
  {
   "cell_type": "markdown",
   "id": "146e64e5-00a2-4e3b-ad53-54106f631313",
   "metadata": {},
   "source": [
    "Q13. What can you do to save a programme from crashing if it encounters an error?\n",
    "Ans:- \n",
    "     Place the line of code that might cause an error in a try clause."
   ]
  },
  {
   "cell_type": "markdown",
   "id": "c27a7091-e7b6-4aee-a3c2-06b43a459498",
   "metadata": {},
   "source": [
    "Q14. What is the purpose of the try clause? What is the purpose of the except clause?\n",
    "Ans:-\n",
    "    The code that could potentially cause an error goes in the try clause.\n",
    "\n",
    "The code that executes if an error happens goes in the except clause."
   ]
  }
 ],
 "metadata": {
  "kernelspec": {
   "display_name": "Python 3 (ipykernel)",
   "language": "python",
   "name": "python3"
  },
  "language_info": {
   "codemirror_mode": {
    "name": "ipython",
    "version": 3
   },
   "file_extension": ".py",
   "mimetype": "text/x-python",
   "name": "python",
   "nbconvert_exporter": "python",
   "pygments_lexer": "ipython3",
   "version": "3.10.6"
  }
 },
 "nbformat": 4,
 "nbformat_minor": 5
}
