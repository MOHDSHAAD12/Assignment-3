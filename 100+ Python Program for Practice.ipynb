{
 "cells": [
  {
   "cell_type": "markdown",
   "id": "41fc5358",
   "metadata": {},
   "source": [
    "   # 100+ Python Program for Practice"
   ]
  },
  {
   "cell_type": "markdown",
   "id": "b42e8931",
   "metadata": {},
   "source": [
    "1.Program to add two numbers in python"
   ]
  },
  {
   "cell_type": "code",
   "execution_count": 2,
   "id": "86832a53",
   "metadata": {},
   "outputs": [
    {
     "name": "stdout",
     "output_type": "stream",
     "text": [
      "the sum of two number is 110\n"
     ]
    }
   ],
   "source": [
    "# with pre-define variables\n",
    "num1 = 70\n",
    "num2 = 40\n",
    "sum = num1+num2\n",
    "print('the sum of two number is', sum)"
   ]
  },
  {
   "cell_type": "code",
   "execution_count": 3,
   "id": "7c9869aa",
   "metadata": {},
   "outputs": [
    {
     "name": "stdout",
     "output_type": "stream",
     "text": [
      "enter the number:80\n",
      "enter the number:40\n",
      "the sum of two number is 120.0\n"
     ]
    }
   ],
   "source": [
    "# with user-inputs\n",
    "num1 = float(input('enter the number:'))\n",
    "num2 = float(input('enter the number:'))\n",
    "sum = num1 + num2\n",
    "print('the sum of two number is',sum)"
   ]
  },
  {
   "cell_type": "markdown",
   "id": "9bc70da6",
   "metadata": {},
   "source": [
    "2. Program to print Hello World in Python"
   ]
  },
  {
   "cell_type": "code",
   "execution_count": 4,
   "id": "6386eb64",
   "metadata": {},
   "outputs": [
    {
     "name": "stdout",
     "output_type": "stream",
     "text": [
      "Namaste Bharat\n"
     ]
    }
   ],
   "source": [
    "print(\"Namaste Bharat\")"
   ]
  },
  {
   "cell_type": "markdown",
   "id": "bd8621b6",
   "metadata": {},
   "source": [
    "3. Program to find out square root\n",
    "a. using exponentiation\n",
    "b. using math module"
   ]
  },
  {
   "cell_type": "code",
   "execution_count": 5,
   "id": "657f7d52",
   "metadata": {},
   "outputs": [
    {
     "name": "stdout",
     "output_type": "stream",
     "text": [
      "enter the number:49\n",
      "the square root of the giving number is 7.0\n"
     ]
    }
   ],
   "source": [
    "#using exponentiation\n",
    "num = 64\n",
    "num1 = int(input(\"enter the number:\"))\n",
    "sr = num1**(1/2)\n",
    "print(\"the square root of the giving number is\",sr)"
   ]
  },
  {
   "cell_type": "code",
   "execution_count": 6,
   "id": "7bd75650",
   "metadata": {},
   "outputs": [
    {
     "name": "stdout",
     "output_type": "stream",
     "text": [
      "enter the number:49\n",
      "the squar root of the giving number is 7.0\n"
     ]
    }
   ],
   "source": [
    "#using math module\n",
    "import math\n",
    "num = int(input(\"enter the number:\"))\n",
    "sr = math.sqrt(num)\n",
    "print(\"the squar root of the giving number is\",sr)"
   ]
  },
  {
   "cell_type": "markdown",
   "id": "fd910a21",
   "metadata": {},
   "source": [
    "4. Program to Calculate Area of Triangle"
   ]
  },
  {
   "cell_type": "code",
   "execution_count": 7,
   "id": "2c2cb99a",
   "metadata": {},
   "outputs": [
    {
     "name": "stdout",
     "output_type": "stream",
     "text": [
      "enter the height of triangle:12.5\n",
      "enter the base of triangle:6.5\n",
      "the area of triangle is 40.625\n"
     ]
    }
   ],
   "source": [
    "height = float(input(\"enter the height of triangle:\"))\n",
    "base = float(input(\"enter the base of triangle:\"))\n",
    "\n",
    "area = (1/2)*base*height\n",
    "\n",
    "print ('the area of triangle is',area)"
   ]
  },
  {
   "cell_type": "markdown",
   "id": "663db03c",
   "metadata": {},
   "source": [
    "5. Program to Solve Quadratic Equation\n",
    "\n",
    "Quadratic equation ax**2 +bx + c=0\n",
    "a,b and c are real numbers\n",
    "a!=0\n",
    "\n",
    "formula for discrimination\n",
    "d = b**2 -4*a*c"
   ]
  },
  {
   "cell_type": "code",
   "execution_count": 16,
   "id": "fc542f7a",
   "metadata": {},
   "outputs": [
    {
     "name": "stdout",
     "output_type": "stream",
     "text": [
      "enter the number (a!=0): 1\n",
      "enter the number: 4\n",
      "enter the number: 2\n",
      "the roots are\n",
      "(-3.414213562373095+0j)\n",
      "(-0.5857864376269049+0j)\n"
     ]
    }
   ],
   "source": [
    "import cmath\n",
    "a = int(input(\"enter the number (a!=0): \"))\n",
    "b = int(input('enter the number: '))\n",
    "c = int(input('enter the number: '))\n",
    "\n",
    "#formula for discrimination\n",
    "d = (b**2) - (4 * a*c)\n",
    "\n",
    "root1 = (-b-cmath.sqrt(d))/(2*a)\n",
    "root2 = (-b+cmath.sqrt(d))/(2*a)\n",
    "\n",
    "print(\"the roots are\")\n",
    "print(root1)\n",
    "print(root2)"
   ]
  },
  {
   "cell_type": "markdown",
   "id": "f75d09ec",
   "metadata": {},
   "source": [
    "6. Program to Swap two variables\n",
    "a. using third variable\n",
    "b. using without third variable"
   ]
  },
  {
   "cell_type": "code",
   "execution_count": 20,
   "id": "d1884f36",
   "metadata": {},
   "outputs": [
    {
     "name": "stdout",
     "output_type": "stream",
     "text": [
      "the value of temp variable is 13\n",
      "the value of x is 12\n",
      "the value of y is 13\n"
     ]
    }
   ],
   "source": [
    "#using third variable\n",
    "x = 13\n",
    "y = 12\n",
    "\n",
    "temp = x\n",
    "print(\"the value of temp variable is\",temp)\n",
    "\n",
    "x = y\n",
    "print(\"the value of x is\", x)\n",
    "\n",
    "y = temp\n",
    "print(\"the value of y is\",y)"
   ]
  },
  {
   "cell_type": "code",
   "execution_count": 21,
   "id": "aa9e2166",
   "metadata": {},
   "outputs": [
    {
     "name": "stdout",
     "output_type": "stream",
     "text": [
      "the value of x is 13\n",
      "the value of y is 12\n"
     ]
    }
   ],
   "source": [
    "#without using third variable\n",
    "\n",
    "x = 12\n",
    "y = 13\n",
    "\n",
    "x, y = y,x\n",
    "\n",
    "print(\"the value of x is\",x)\n",
    "print(\"the value of y is\",y) "
   ]
  },
  {
   "cell_type": "markdown",
   "id": "66ff5d2c",
   "metadata": {},
   "source": [
    "7. Program to Generate a Random number"
   ]
  },
  {
   "cell_type": "code",
   "execution_count": 25,
   "id": "1a25c4c4",
   "metadata": {},
   "outputs": [
    {
     "name": "stdout",
     "output_type": "stream",
     "text": [
      "2\n"
     ]
    }
   ],
   "source": [
    "import random\n",
    "\n",
    "num = random.randint(0,10)\n",
    "\n",
    "print(num)"
   ]
  },
  {
   "cell_type": "markdown",
   "id": "320cef58",
   "metadata": {},
   "source": [
    "8. Program to convert kilometers to miles"
   ]
  },
  {
   "cell_type": "code",
   "execution_count": 27,
   "id": "0581a2e7",
   "metadata": {},
   "outputs": [
    {
     "name": "stdout",
     "output_type": "stream",
     "text": [
      "enter the value in kms: 5\n",
      "kms will be 5.0\n",
      "miles 3.106855\n"
     ]
    }
   ],
   "source": [
    "km = float(input(\"enter the value in kms: \"))\n",
    "\n",
    "miles = (0.621371)*km\n",
    "\n",
    "print('kms will be', km)\n",
    "print('miles', miles)"
   ]
  },
  {
   "cell_type": "markdown",
   "id": "abc49a4e",
   "metadata": {},
   "source": [
    "9.Program to convert Celcius to Fahrenheit"
   ]
  },
  {
   "cell_type": "code",
   "execution_count": 28,
   "id": "7f9168ef",
   "metadata": {},
   "outputs": [
    {
     "name": "stdout",
     "output_type": "stream",
     "text": [
      "enter temperature in celsius40\n",
      "the coverted value is 104.0\n"
     ]
    }
   ],
   "source": [
    "celsius = int(input(\"enter temperature in celsius\"))\n",
    "\n",
    "fahrenheit = (celsius *(9/5))+32\n",
    "\n",
    "print(\"the coverted value is\", fahrenheit,)"
   ]
  },
  {
   "cell_type": "markdown",
   "id": "ed2a985c",
   "metadata": {},
   "source": [
    "10. Program to check if a number is positive,Negative or zero"
   ]
  },
  {
   "cell_type": "code",
   "execution_count": 30,
   "id": "c5cefa85",
   "metadata": {},
   "outputs": [
    {
     "name": "stdout",
     "output_type": "stream",
     "text": [
      "it is a positive number\n"
     ]
    }
   ],
   "source": [
    "num = 12\n",
    "\n",
    "if num > 0:\n",
    "    print(\"it is a positive number\")\n",
    "elif num == 0:\n",
    "    print(\"it is a zero\")\n",
    "else:\n",
    "    print(\"it is a negative number\")\n"
   ]
  },
  {
   "cell_type": "code",
   "execution_count": 31,
   "id": "af40d28b",
   "metadata": {},
   "outputs": [
    {
     "name": "stdout",
     "output_type": "stream",
     "text": [
      "enter a number here:-24\n",
      "it is a negative number\n"
     ]
    }
   ],
   "source": [
    "num = int(input(\"enter a number here:\"))\n",
    "\n",
    "if num > 0:\n",
    "    print(\"it is a positive number\")\n",
    "elif num == 0:\n",
    "    print(\"it is a zero\")\n",
    "else:\n",
    "    print(\"it is a negative number\")"
   ]
  },
  {
   "cell_type": "markdown",
   "id": "4fe97606",
   "metadata": {},
   "source": [
    "11. Program to Check if a number is odd or even"
   ]
  },
  {
   "cell_type": "code",
   "execution_count": 32,
   "id": "0a6ff071",
   "metadata": {},
   "outputs": [
    {
     "name": "stdout",
     "output_type": "stream",
     "text": [
      "it is an even number\n"
     ]
    }
   ],
   "source": [
    "num = 12\n",
    "\n",
    "if num % 2 == 0:\n",
    "    print('it is an even number')\n",
    "else:\n",
    "    print('it is an odd number')"
   ]
  },
  {
   "cell_type": "code",
   "execution_count": 33,
   "id": "440b4032",
   "metadata": {},
   "outputs": [
    {
     "name": "stdout",
     "output_type": "stream",
     "text": [
      "enter a number here:15\n",
      "it is an odd number\n"
     ]
    }
   ],
   "source": [
    "num = int(input('enter a number here:'))\n",
    "\n",
    "if num % 2 == 0:\n",
    "    print('it is an even number')\n",
    "else:\n",
    "    print('it is an odd number')"
   ]
  },
  {
   "cell_type": "markdown",
   "id": "4a79aa96",
   "metadata": {},
   "source": [
    "12. Program to check leap year"
   ]
  },
  {
   "cell_type": "code",
   "execution_count": 4,
   "id": "d3919b4e",
   "metadata": {},
   "outputs": [
    {
     "name": "stdout",
     "output_type": "stream",
     "text": [
      "enter a year: 2024\n",
      "2024 is a leap year\n"
     ]
    }
   ],
   "source": [
    "year = int(input(\"enter a year: \"))\n",
    "\n",
    "if (year % 400 == 0) and (year % 100 == 0):\n",
    "    print(year, \"is a leap year\")\n",
    "elif (year % 4 == 0) and (year % 100 != 0):\n",
    "    print(year,\"is a leap year\")\n",
    "else:\n",
    "    print(year, \"is not a leap year\")"
   ]
  },
  {
   "cell_type": "markdown",
   "id": "093f2805",
   "metadata": {},
   "source": [
    "13.Python Program to find the largest among three numbers "
   ]
  },
  {
   "cell_type": "code",
   "execution_count": 5,
   "id": "a989ab14",
   "metadata": {},
   "outputs": [
    {
     "name": "stdout",
     "output_type": "stream",
     "text": [
      "56 is a largest number\n"
     ]
    }
   ],
   "source": [
    "num1 = 12\n",
    "num2 = 56\n",
    "num3 = 34\n",
    "\n",
    "if (num1 > num2) and (num1 >num3):\n",
    "    print(num1, \"is a largest number\")\n",
    "elif (num2 > num1) and (num2 > num3):\n",
    "    print(num2, \"is a largest number\")\n",
    "else:\n",
    "    print(num3, \"is a largest number\")"
   ]
  },
  {
   "cell_type": "code",
   "execution_count": 10,
   "id": "8912e38c",
   "metadata": {},
   "outputs": [
    {
     "name": "stdout",
     "output_type": "stream",
     "text": [
      "enter 1st number here: 34\n",
      "enter 2nd number here: 56\n",
      "enter 3rd number here: 69\n",
      "69 is a largest number\n"
     ]
    }
   ],
   "source": [
    "num1 = int(input(\"enter 1st number here: \"))\n",
    "num2 = int(input(\"enter 2nd number here: \"))\n",
    "num3 = int(input(\"enter 3rd number here: \"))\n",
    "\n",
    "if (num1 > num2) and (num1 >num3):\n",
    "    print(num1, \"is a largest number\")\n",
    "elif (num2 > num1) and (num2 > num3):\n",
    "    print(num2, \"is a largest number\")\n",
    "else:\n",
    "    print(num3, \"is a largest number\")"
   ]
  },
  {
   "cell_type": "markdown",
   "id": "35271ae6",
   "metadata": {},
   "source": [
    "14.Check Prime Number"
   ]
  },
  {
   "cell_type": "code",
   "execution_count": 12,
   "id": "b1de5894",
   "metadata": {},
   "outputs": [
    {
     "name": "stdout",
     "output_type": "stream",
     "text": [
      "enter a number here: 6\n",
      "it is not a prime number\n"
     ]
    }
   ],
   "source": [
    "num = int(input(\"enter a number here: \"))\n",
    "\n",
    "if num ==1:\n",
    "    print(\"it is not a prime number\")\n",
    "if num > 1:\n",
    "    for i in range (2,num):\n",
    "        if num % i == 0:\n",
    "            print(\"it is not a prime number\")\n",
    "            break\n",
    "    else:\n",
    "            print(\"it is a prime number\")"
   ]
  },
  {
   "cell_type": "markdown",
   "id": "db371bed",
   "metadata": {},
   "source": [
    "15.Program to Print all Prime number in an interval"
   ]
  },
  {
   "cell_type": "code",
   "execution_count": 14,
   "id": "ec4df888",
   "metadata": {},
   "outputs": [
    {
     "name": "stdout",
     "output_type": "stream",
     "text": [
      "enter lower limit here: 2\n",
      "enter upper limit here: 50\n",
      "2\n",
      "3\n",
      "5\n",
      "7\n",
      "11\n",
      "13\n",
      "17\n",
      "19\n",
      "23\n",
      "29\n",
      "31\n",
      "37\n",
      "41\n",
      "43\n",
      "47\n"
     ]
    }
   ],
   "source": [
    "lower = int(input(\"enter lower limit here: \"))\n",
    "upper = int(input(\"enter upper limit here: \"))\n",
    "\n",
    "for num in range (lower, upper + 1):\n",
    "    if num > 1:\n",
    "        for i in range (2,num):\n",
    "            if num%i == 0:\n",
    "                break\n",
    "        else:\n",
    "            print(num)"
   ]
  },
  {
   "cell_type": "markdown",
   "id": "82060500",
   "metadata": {},
   "source": [
    "16. Program to find the factorial of a number\n",
    "a. using for loop\n",
    "b. using recursion"
   ]
  },
  {
   "cell_type": "code",
   "execution_count": 15,
   "id": "5f62e1e7",
   "metadata": {},
   "outputs": [
    {
     "name": "stdout",
     "output_type": "stream",
     "text": [
      "enter a number here: 6\n",
      "the factorial of the giving number is 720\n"
     ]
    }
   ],
   "source": [
    "#using for loop\n",
    "\n",
    "num = int(input(\"enter a number here: \"))\n",
    "\n",
    "fact = 1\n",
    "\n",
    "if num < 0:\n",
    "    print(\"factorial of 0 does not exist\")\n",
    "if num == 0:\n",
    "    print(\"factorial of 0 is\", 1)\n",
    "if num > 0:\n",
    "    for i in range (1, num+1):\n",
    "        fact = fact * i\n",
    "print(\"the factorial of the giving number is\", fact)"
   ]
  },
  {
   "cell_type": "code",
   "execution_count": 16,
   "id": "769f614e",
   "metadata": {},
   "outputs": [
    {
     "name": "stdout",
     "output_type": "stream",
     "text": [
      "enter a number here: 5\n",
      "The factorial of the giving is 120\n"
     ]
    }
   ],
   "source": [
    "#using recursion\n",
    "\n",
    "def fact(a):\n",
    "    if a == 0:\n",
    "        return 1\n",
    "    else:\n",
    "        return ((a)*fact(a-1))\n",
    "    \n",
    "num = int(input(\"enter a number here: \"))\n",
    "\n",
    "result = fact(num)\n",
    "print(\"The factorial of the giving is\", result)"
   ]
  },
  {
   "cell_type": "markdown",
   "id": "e5854bdf",
   "metadata": {},
   "source": [
    "17. Program to Display the multiplication Table in Python\n",
    "a. using for loop\n",
    "b. using while loop"
   ]
  },
  {
   "cell_type": "code",
   "execution_count": 17,
   "id": "5671e124",
   "metadata": {},
   "outputs": [
    {
     "name": "stdout",
     "output_type": "stream",
     "text": [
      "7 * 1 = 7\n",
      "7 * 2 = 14\n",
      "7 * 3 = 21\n",
      "7 * 4 = 28\n",
      "7 * 5 = 35\n",
      "7 * 6 = 42\n",
      "7 * 7 = 49\n",
      "7 * 8 = 56\n",
      "7 * 9 = 63\n",
      "7 * 10 = 70\n"
     ]
    }
   ],
   "source": [
    "#using for loop\n",
    "\n",
    "n = 7\n",
    "for i in range (1,11):\n",
    "    print(n,\"*\",i,\"=\",n*i)"
   ]
  },
  {
   "cell_type": "code",
   "execution_count": 2,
   "id": "90fee8b8",
   "metadata": {},
   "outputs": [
    {
     "name": "stdout",
     "output_type": "stream",
     "text": [
      "enter a number here: 16\n",
      "16 * 1 = 16\n",
      "16 * 2 = 32\n",
      "16 * 3 = 48\n",
      "16 * 4 = 64\n",
      "16 * 5 = 80\n",
      "16 * 6 = 96\n",
      "16 * 7 = 112\n",
      "16 * 8 = 128\n",
      "16 * 9 = 144\n",
      "16 * 10 = 160\n"
     ]
    }
   ],
   "source": [
    "#using while loop\n",
    "\n",
    "n = int(input(\"enter a number here: \"))\n",
    "i = 1\n",
    "while i <= 10:\n",
    "    print(n,\"*\",i,\"=\",n*i)\n",
    "    i +=1"
   ]
  },
  {
   "cell_type": "markdown",
   "id": "be99859d",
   "metadata": {},
   "source": [
    "18. Program to Print the Fibonacci sequence in Python"
   ]
  },
  {
   "cell_type": "code",
   "execution_count": 4,
   "id": "b26b716e",
   "metadata": {},
   "outputs": [
    {
     "name": "stdout",
     "output_type": "stream",
     "text": [
      "enter a number to obtain fibonacci sequence: 7\n",
      "0\n",
      "1\n",
      "1\n",
      "2\n",
      "3\n",
      "5\n",
      "8\n"
     ]
    }
   ],
   "source": [
    "a = 0\n",
    "b = 1\n",
    "num = int(input(\"enter a number to obtain fibonacci sequence: \"))\n",
    "\n",
    "if num == 1:\n",
    "    print(a)\n",
    "else:\n",
    "    print(a)\n",
    "    print(b)\n",
    "    for i in range (2, num):\n",
    "        c = a + b\n",
    "        a = b\n",
    "        b = c\n",
    "        print(c)"
   ]
  },
  {
   "cell_type": "markdown",
   "id": "dbd6be7f",
   "metadata": {},
   "source": [
    "19. Program to Check Armstrong Number\n",
    "\n",
    "  153 = (1*1*1)+(5*5*5)+(3*3*3)\n",
    "      =  1+125+27\n",
    "      = 153"
   ]
  },
  {
   "cell_type": "code",
   "execution_count": 6,
   "id": "b7fb8e76",
   "metadata": {},
   "outputs": [
    {
     "name": "stdout",
     "output_type": "stream",
     "text": [
      "enter a number here: 407\n",
      "it is an armstrong number\n"
     ]
    }
   ],
   "source": [
    "# for three digit number\n",
    "\n",
    "num = int(input('enter a number here: '))\n",
    "\n",
    "sum = 0\n",
    "temp = num\n",
    "\n",
    "while temp > 0:\n",
    "    digit = temp%10\n",
    "    cube = digit ** 3\n",
    "    sum = sum + cube\n",
    "    temp //= 10\n",
    "    \n",
    "if sum == num :\n",
    "    print('it is an armstrong number')\n",
    "else:\n",
    "    print('it is not an armstrong number')"
   ]
  },
  {
   "cell_type": "code",
   "execution_count": 7,
   "id": "f5b381d5",
   "metadata": {},
   "outputs": [
    {
     "name": "stdout",
     "output_type": "stream",
     "text": [
      "enter a number here: 1634\n",
      "it is an armstrong number\n"
     ]
    }
   ],
   "source": [
    "# for n digit number\n",
    "\n",
    "num = int(input('enter a number here: '))\n",
    "order = len(str(num))\n",
    "\n",
    "sum = 0\n",
    "temp = num\n",
    "\n",
    "while temp > 0:\n",
    "    digit = temp%10\n",
    "    cube = digit ** order\n",
    "    sum = sum + cube\n",
    "    temp //= 10\n",
    "    \n",
    "if sum == num :\n",
    "    print('it is an armstrong number')\n",
    "else:\n",
    "    print('it is not an armstrong number')"
   ]
  },
  {
   "cell_type": "markdown",
   "id": "709dda8b",
   "metadata": {},
   "source": [
    "20. Program to Find Armstrong number in an Interval"
   ]
  },
  {
   "cell_type": "code",
   "execution_count": 8,
   "id": "502958e3",
   "metadata": {},
   "outputs": [
    {
     "name": "stdout",
     "output_type": "stream",
     "text": [
      "enter the lower limit here: 100\n",
      "enter the upper limit here: 10000\n",
      "153\n",
      "370\n",
      "371\n",
      "407\n",
      "1634\n",
      "8208\n",
      "9474\n"
     ]
    }
   ],
   "source": [
    "lower = int(input('enter the lower limit here: '))\n",
    "upper = int(input('enter the upper limit here: '))\n",
    "\n",
    "for num in range (lower, upper + 1):\n",
    "    order = len(str(num))\n",
    "    sum = 0\n",
    "    temp = num\n",
    "    while temp > 0:\n",
    "        digit = temp % 10\n",
    "        sum += digit ** order\n",
    "        temp //= 10\n",
    "    if num == sum :\n",
    "        print(num)"
   ]
  },
  {
   "cell_type": "markdown",
   "id": "4fb135bc",
   "metadata": {},
   "source": [
    "21. Program to find the sum of Natural Numbers"
   ]
  },
  {
   "cell_type": "code",
   "execution_count": 9,
   "id": "49c2150b",
   "metadata": {},
   "outputs": [
    {
     "name": "stdout",
     "output_type": "stream",
     "text": [
      "enter a number here: 15\n",
      "120\n"
     ]
    }
   ],
   "source": [
    "num = int(input('enter a number here: '))\n",
    "\n",
    "if num < 0:\n",
    "    print('please enter positive number')\n",
    "else:\n",
    "    sum = 0\n",
    "    while num > 0:\n",
    "        sum += num\n",
    "        num -= 1\n",
    "        \n",
    "    print(sum)"
   ]
  },
  {
   "cell_type": "markdown",
   "id": "1cc45bd2",
   "metadata": {},
   "source": [
    "22. Program to Display Power of 2 using Anonymous Function"
   ]
  },
  {
   "cell_type": "code",
   "execution_count": 11,
   "id": "cd47f739",
   "metadata": {},
   "outputs": [
    {
     "name": "stdout",
     "output_type": "stream",
     "text": [
      "enter number of terms here: 5\n",
      "[1, 2, 4, 8, 16, 32]\n",
      "the value of 2 raised to power 0 is 1\n",
      "the value of 2 raised to power 1 is 2\n",
      "the value of 2 raised to power 2 is 4\n",
      "the value of 2 raised to power 3 is 8\n",
      "the value of 2 raised to power 4 is 16\n",
      "the value of 2 raised to power 5 is 32\n"
     ]
    }
   ],
   "source": [
    "nterms = int(input('enter number of terms here: '))\n",
    "\n",
    "result = list(map(lambda x : 2 **x, range(nterms+1)))\n",
    "\n",
    "print(result)\n",
    "\n",
    "for i in range (nterms+1):\n",
    "    print('the value of 2 raised to power',i,\"is\",result[i])"
   ]
  },
  {
   "cell_type": "markdown",
   "id": "fba246a3",
   "metadata": {},
   "source": [
    "23. Find numbers divisible by another number"
   ]
  },
  {
   "cell_type": "code",
   "execution_count": 1,
   "id": "275a309f",
   "metadata": {},
   "outputs": [
    {
     "name": "stdout",
     "output_type": "stream",
     "text": [
      "13\n",
      "26\n",
      "39\n",
      "52\n",
      "65\n",
      "78\n",
      "91\n"
     ]
    }
   ],
   "source": [
    "# solution using for loop\n",
    "\n",
    "# print ('the number divisible by 13 are : ')\n",
    "\n",
    "for i in range (1,100):\n",
    "    if i % 13 == 0:\n",
    "        print(i)"
   ]
  },
  {
   "cell_type": "code",
   "execution_count": 21,
   "id": "11cae011",
   "metadata": {},
   "outputs": [
    {
     "name": "stdout",
     "output_type": "stream",
     "text": [
      "The numbers divisible by 13 are [39, 26]\n"
     ]
    }
   ],
   "source": [
    "#using Lambda Function and filter()\n",
    "\n",
    "l = [39,48,26,98,33,67,87]\n",
    "\n",
    "result = list(filter(lambda x : x % 13 == 0, l))\n",
    "print('The numbers divisible by 13 are', result)"
   ]
  },
  {
   "cell_type": "markdown",
   "id": "1c6914f5",
   "metadata": {},
   "source": [
    "24. Python program to convert decimal to binary, Octal and hexadecimal"
   ]
  },
  {
   "cell_type": "code",
   "execution_count": 10,
   "id": "e4b45bb3",
   "metadata": {},
   "outputs": [
    {
     "name": "stdout",
     "output_type": "stream",
     "text": [
      "enter a nymber here: 12\n",
      "the conversion of decimal number 12 is: \n",
      "0b1100 in binary\n",
      "0o14 in octal\n",
      "0xc in hexadecimal\n"
     ]
    }
   ],
   "source": [
    "decimal = int(input('enter a nymber here: '))\n",
    "print('the conversion of decimal number',decimal, \"is: \")\n",
    "print(bin(decimal),\"in binary\")\n",
    "print(oct(decimal),\"in octal\")\n",
    "print(hex(decimal),\"in hexadecimal\")"
   ]
  },
  {
   "cell_type": "markdown",
   "id": "5ce2c6ea",
   "metadata": {},
   "source": [
    "25. Python Program to find ASCII value of Character"
   ]
  },
  {
   "cell_type": "code",
   "execution_count": 11,
   "id": "aa4ba673",
   "metadata": {},
   "outputs": [
    {
     "name": "stdout",
     "output_type": "stream",
     "text": [
      "the ASCII value of a is 97\n"
     ]
    }
   ],
   "source": [
    "char = \"a\"\n",
    "\n",
    "print(\"the ASCII value of\", char, \"is\", ord(char))"
   ]
  },
  {
   "cell_type": "markdown",
   "id": "60d74250",
   "metadata": {},
   "source": [
    "26. Python Program to find HCF or GCD"
   ]
  },
  {
   "cell_type": "code",
   "execution_count": 12,
   "id": "a8154da5",
   "metadata": {},
   "outputs": [
    {
     "name": "stdout",
     "output_type": "stream",
     "text": [
      "the hcf of the giving two numbers is 6\n"
     ]
    }
   ],
   "source": [
    "def findHCF(x,y):\n",
    "    if x > y:\n",
    "        smaller = y\n",
    "    else:\n",
    "        smaller = x\n",
    "    for i in range (1,smaller+1):\n",
    "        if ((x%i == 0) and (y%i ==0)):\n",
    "            hcf = i\n",
    "    return hcf\n",
    "x = 12\n",
    "y = 30\n",
    "\n",
    "print(\"the hcf of the giving two numbers is\",findHCF(12,30))"
   ]
  },
  {
   "cell_type": "markdown",
   "id": "5a885bb4",
   "metadata": {},
   "source": [
    "27. Python Program to find the Factor of a number"
   ]
  },
  {
   "cell_type": "code",
   "execution_count": 8,
   "id": "7d7d7432",
   "metadata": {},
   "outputs": [
    {
     "name": "stdout",
     "output_type": "stream",
     "text": [
      "enter a number here: 12\n",
      "1\n",
      "2\n",
      "3\n",
      "4\n",
      "6\n",
      "12\n"
     ]
    }
   ],
   "source": [
    "num = int(input('enter a number here: '))\n",
    "\n",
    "for i in range (1, num+1):\n",
    "    if num % i == 0:\n",
    "        print(i)"
   ]
  },
  {
   "cell_type": "markdown",
   "id": "a5db45fd",
   "metadata": {},
   "source": [
    "28. Python Program to make a simple calculator"
   ]
  },
  {
   "cell_type": "code",
   "execution_count": 11,
   "id": "d7badfa6",
   "metadata": {},
   "outputs": [
    {
     "name": "stdout",
     "output_type": "stream",
     "text": [
      "~~~~Mini Calculator~~~~\n",
      "enter first number here: 12\n",
      "enter second number here: 4\n",
      "press 1 for addition \n",
      "press 2 for substraction \n",
      "press 3 for division \n",
      "press for 4 for multipication\n",
      "enter your choice from 1-4: 4\n",
      "The multiplication of two numbers is 48.0\n"
     ]
    }
   ],
   "source": [
    "print(\"~~~~Mini Calculator~~~~\")\n",
    "\n",
    "num1 = float(input('enter first number here: '))\n",
    "num2 = float(input('enter second number here: '))\n",
    "\n",
    "print (\"press 1 for addition \\npress 2 for substraction \\npress 3 for division \\npress for 4 for multipication\")\n",
    "\n",
    "choice = int(input('enter your choice from 1-4: '))\n",
    "\n",
    "if choice == 1:\n",
    "    print (\"The addition of two numbers is\", num1 + num2)\n",
    "elif choice == 2:\n",
    "    print (\"The subtraction of two numbers is\",num1 - num2)\n",
    "elif choice == 3:\n",
    "    print(\"The division of two numbers is\", num1 % num2)\n",
    "elif choice == 4:\n",
    "    print(\"The multiplication of two numbers is\", num1*num2)\n",
    "else:\n",
    "    print(\"invalid input\")"
   ]
  },
  {
   "cell_type": "markdown",
   "id": "2f60dbb8",
   "metadata": {},
   "source": [
    "29. Python Program to Shuffle deck of cards"
   ]
  },
  {
   "cell_type": "code",
   "execution_count": 25,
   "id": "39444980",
   "metadata": {},
   "outputs": [
    {
     "name": "stdout",
     "output_type": "stream",
     "text": [
      "[(3, 'Diamond'), (4, 'Heart'), (11, 'Club'), (3, 'Heart'), (5, 'Spade'), (1, 'Spade'), (4, 'Diamond'), (7, 'Diamond'), (4, 'Club'), (11, 'Heart'), (10, 'Club'), (11, 'Diamond'), (2, 'Club'), (10, 'Spade'), (8, 'Heart'), (12, 'Spade'), (12, 'Diamond'), (13, 'Club'), (7, 'Club'), (1, 'Diamond'), (2, 'Diamond'), (5, 'Diamond'), (2, 'Heart'), (12, 'Heart'), (13, 'Heart'), (8, 'Club'), (5, 'Heart'), (2, 'Spade'), (3, 'Club'), (3, 'Spade'), (9, 'Heart'), (7, 'Heart'), (13, 'Spade'), (9, 'Diamond'), (5, 'Club'), (6, 'Club'), (4, 'Spade'), (8, 'Spade'), (10, 'Heart'), (6, 'Diamond'), (12, 'Club'), (13, 'Diamond'), (10, 'Diamond'), (7, 'Spade'), (8, 'Diamond'), (11, 'Spade'), (6, 'Heart'), (1, 'Club'), (6, 'Spade'), (1, 'Heart'), (9, 'Spade'), (9, 'Club')]\n",
      "3 of Diamond\n",
      "4 of Heart\n",
      "11 of Club\n",
      "3 of Heart\n",
      "5 of Spade\n"
     ]
    }
   ],
   "source": [
    "import random, itertools\n",
    "\n",
    "deck = list(itertools.product(range(1,14),[\"Spade\", \"Club\", \"Heart\", \"Diamond\"]))\n",
    "\n",
    "random.shuffle(deck)\n",
    "print(deck)\n",
    "\n",
    "for i in range(5):\n",
    "    print(deck[i][0], \"of\", deck[i][1])"
   ]
  },
  {
   "cell_type": "markdown",
   "id": "214075d5",
   "metadata": {},
   "source": [
    "30. Python Program to Display Calendar"
   ]
  },
  {
   "cell_type": "code",
   "execution_count": 17,
   "id": "efc73441",
   "metadata": {},
   "outputs": [
    {
     "name": "stdout",
     "output_type": "stream",
     "text": [
      "enter year: 1999\n",
      "enter month: 10\n",
      "    October 1999\n",
      "Mo Tu We Th Fr Sa Su\n",
      "             1  2  3\n",
      " 4  5  6  7  8  9 10\n",
      "11 12 13 14 15 16 17\n",
      "18 19 20 21 22 23 24\n",
      "25 26 27 28 29 30 31\n",
      "\n"
     ]
    }
   ],
   "source": [
    "import calendar\n",
    "\n",
    "year = int(input('enter year: '))\n",
    "month = int(input('enter month: '))\n",
    "\n",
    "calendar = calendar.month(year,month)\n",
    "print(calendar)"
   ]
  },
  {
   "cell_type": "markdown",
   "id": "e0259f35",
   "metadata": {},
   "source": [
    "31. Python Program to display Fibonacci sequence using recursion"
   ]
  },
  {
   "cell_type": "code",
   "execution_count": 2,
   "id": "a542b97a",
   "metadata": {},
   "outputs": [
    {
     "name": "stdout",
     "output_type": "stream",
     "text": [
      "enter a number here: 5\n",
      "Fibonacci sequence\n",
      "0\n",
      "1\n",
      "1\n",
      "2\n",
      "3\n"
     ]
    }
   ],
   "source": [
    "def fibo (n):\n",
    "    if n <=1:\n",
    "        return n\n",
    "    else:\n",
    "        return fibo(n-1)+fibo(n-2)\n",
    "    \n",
    "n = int(input(\"enter a number here: \"))\n",
    "if n <=0:\n",
    "    print('enter a positive number ')\n",
    "else:\n",
    "    print('Fibonacci sequence')\n",
    "    for i in range (n):\n",
    "        print(fibo(i))"
   ]
  },
  {
   "cell_type": "markdown",
   "id": "2586d0e2",
   "metadata": {},
   "source": [
    "32. Python Program to find Sum of natural numbers using Recursion"
   ]
  },
  {
   "cell_type": "code",
   "execution_count": 1,
   "id": "27edfc13",
   "metadata": {},
   "outputs": [
    {
     "name": "stdout",
     "output_type": "stream",
     "text": [
      "enter a number here: 5\n",
      "The sum of natural number upto given number is  15\n"
     ]
    }
   ],
   "source": [
    "def NNS (n):\n",
    "    if n <=1:\n",
    "        return n\n",
    "    else:\n",
    "        return (n)+NNS(n-1)\n",
    "    \n",
    "n = int(input('enter a number here: '))\n",
    "\n",
    "if n <=0:\n",
    "    print('Enter a positive number: ')\n",
    "else:\n",
    "    print('The sum of natural number upto given number is ',NNS(n))"
   ]
  },
  {
   "cell_type": "markdown",
   "id": "8f5ed574",
   "metadata": {},
   "source": [
    "33. Python Program to find Factorial of number using Recursion"
   ]
  },
  {
   "cell_type": "code",
   "execution_count": 8,
   "id": "4701f521",
   "metadata": {},
   "outputs": [
    {
     "name": "stdout",
     "output_type": "stream",
     "text": [
      "Enter a number here: 7\n",
      "Factorial of given number is 5040\n"
     ]
    }
   ],
   "source": [
    "def fact(n):\n",
    "    if n == 1:\n",
    "        return  1\n",
    "    else:\n",
    "        return (n * fact(n-1))\n",
    "\n",
    "n = int(input('Enter a number here: '))\n",
    "if n <=0:\n",
    "    print('Factorial of number less than 1 does not exists')\n",
    "else:\n",
    "    print('Factorial of given number is', fact(n))\n",
    "    "
   ]
  },
  {
   "cell_type": "markdown",
   "id": "8f1838d4",
   "metadata": {},
   "source": [
    "34. Pyhthon Program to find Decimal to binary using Recursion"
   ]
  },
  {
   "cell_type": "code",
   "execution_count": 10,
   "id": "ab6fc227",
   "metadata": {},
   "outputs": [
    {
     "name": "stdout",
     "output_type": "stream",
     "text": [
      "The binary of the given number is: \n",
      "1111"
     ]
    }
   ],
   "source": [
    "def ConvertBinary(n):\n",
    "    if n > 1:\n",
    "        ConvertBinary(n//2)\n",
    "    print(n%2,end = \"\")\n",
    "    \n",
    "print('The binary of the given number is: ')\n",
    "ConvertBinary(15)"
   ]
  },
  {
   "cell_type": "markdown",
   "id": "66fb328f",
   "metadata": {},
   "source": [
    "35. Python Program to add two matrices"
   ]
  },
  {
   "cell_type": "code",
   "execution_count": 4,
   "id": "33a549fe",
   "metadata": {},
   "outputs": [
    {
     "name": "stdout",
     "output_type": "stream",
     "text": [
      "[5, 10, 14]\n",
      "[12, 15, 8]\n",
      "[10, 7, 9]\n"
     ]
    }
   ],
   "source": [
    "A = [[1, 5, 8],\n",
    "     [4, 6, 7],\n",
    "     [7, 2, 3]]\n",
    "\n",
    "B = [[4, 5, 6],\n",
    "    [8, 9, 1],\n",
    "    [3, 5, 6]]\n",
    "\n",
    "result = [[0, 0, 0],\n",
    "          [0, 0, 0],\n",
    "          [0, 0, 0]]\n",
    "\n",
    "for i in range (len(A)):\n",
    "    for j in range(len(A[0])):\n",
    "        result[i][j] = A[i][j] + B[i][j]\n",
    "        \n",
    "for r in result:\n",
    "    print(r)"
   ]
  },
  {
   "cell_type": "markdown",
   "id": "37be44b8",
   "metadata": {},
   "source": [
    "36. Python Program to Transpose a Matrix"
   ]
  },
  {
   "cell_type": "code",
   "execution_count": 8,
   "id": "4738f4f8",
   "metadata": {},
   "outputs": [
    {
     "name": "stdout",
     "output_type": "stream",
     "text": [
      "[1, 4]\n",
      "[2, 5]\n",
      "[3, 6]\n"
     ]
    }
   ],
   "source": [
    "#using for loop\n",
    "\n",
    "A = [[1, 2, 3],\n",
    "     [4, 5, 6]]\n",
    "\n",
    "T = [[0, 0],\n",
    "     [0, 0],\n",
    "     [0, 0]]\n",
    "for i in range (len(A)):\n",
    "    for j in range (len(A[0])):\n",
    "        T[j][i]=A[i][j]\n",
    "\n",
    "for i in T:\n",
    "    print(i)"
   ]
  },
  {
   "cell_type": "code",
   "execution_count": 12,
   "id": "c33a0479",
   "metadata": {},
   "outputs": [
    {
     "name": "stdout",
     "output_type": "stream",
     "text": [
      "[1, 4]\n",
      "[2, 5]\n",
      "[3, 6]\n"
     ]
    }
   ],
   "source": [
    "#using List Comprehension\n",
    "\n",
    "A = [[1, 2, 3],\n",
    "     [4, 5, 6]]\n",
    "\n",
    "T = [[A[j][i]  for j in range (len(A))] for i in range (len(A[0]))]\n",
    "\n",
    "for i in T:\n",
    "    print(i)"
   ]
  },
  {
   "cell_type": "markdown",
   "id": "5f315e7c",
   "metadata": {},
   "source": [
    "37. Python Program to Multiply Two Matrices"
   ]
  },
  {
   "cell_type": "code",
   "execution_count": 14,
   "id": "09ccd16a",
   "metadata": {},
   "outputs": [
    {
     "name": "stdout",
     "output_type": "stream",
     "text": [
      "[27, 15, 15, 8]\n",
      "[60, 36, 33, 20]\n",
      "[93, 57, 51, 32]\n"
     ]
    }
   ],
   "source": [
    "A = [[1,2,3],\n",
    "     [4,5,6],\n",
    "     [7,8,9]]\n",
    "\n",
    "B = [[1,2,1,1],\n",
    "     [4,2,1,2],\n",
    "     [6,3,4,1]]\n",
    "\n",
    "result = [[0,0,0,0],\n",
    "          [0,0,0,0],\n",
    "          [0,0,0,0]]\n",
    "\n",
    "for i in range (len(A)):\n",
    "    for j in range (len(B[0])):\n",
    "        for k in range (len(B)):\n",
    "            result[i][j] += A[i][k] * B[k][j]\n",
    "            \n",
    "for i in result:\n",
    "    print(i)"
   ]
  },
  {
   "cell_type": "markdown",
   "id": "6a743330",
   "metadata": {},
   "source": [
    "38. Python Program to Check whether a string is Palindrome or Not"
   ]
  },
  {
   "cell_type": "code",
   "execution_count": 1,
   "id": "eff17e83",
   "metadata": {},
   "outputs": [
    {
     "name": "stdout",
     "output_type": "stream",
     "text": [
      "enter a word here: madam\n",
      "It is a palindrome\n"
     ]
    }
   ],
   "source": [
    "a = input('enter a word here: ')\n",
    "\n",
    "rev = a[::-1]\n",
    "\n",
    "if a == rev:\n",
    "    print('It is a palindrome')\n",
    "else:\n",
    "    print('It is not palindrome')"
   ]
  },
  {
   "cell_type": "markdown",
   "id": "be97a6af",
   "metadata": {},
   "source": [
    "39. Python Program to Remove Punctuations from a String"
   ]
  },
  {
   "cell_type": "code",
   "execution_count": 3,
   "id": "6cb1749a",
   "metadata": {},
   "outputs": [
    {
     "name": "stdout",
     "output_type": "stream",
     "text": [
      "enter anything here: hello !!!! How are you ???? i am fine\n",
      "hello  How are you  i am fine\n"
     ]
    }
   ],
   "source": [
    "punc = '''!@#$%^&<?{[]}~'''\n",
    "\n",
    "string = input('enter anything here: ')\n",
    "empty_str = \"\"\n",
    "\n",
    "for i in string:\n",
    "    if i not in punc:\n",
    "        empty_str += i \n",
    "        \n",
    "print(empty_str)"
   ]
  },
  {
   "cell_type": "markdown",
   "id": "93d1cdae",
   "metadata": {},
   "source": [
    "40. Python program to sort words in alphabetic order"
   ]
  },
  {
   "cell_type": "code",
   "execution_count": 7,
   "id": "f374d2c1",
   "metadata": {},
   "outputs": [
    {
     "name": "stdout",
     "output_type": "stream",
     "text": [
      "['Harry', 'Potter', 'and', 'the', 'Goblet', 'of', 'fire']\n",
      "['harry', 'potter', 'and', 'the', 'goblet', 'of', 'fire']\n",
      "['and', 'fire', 'goblet', 'harry', 'of', 'potter', 'the']\n",
      "and\n",
      "fire\n",
      "goblet\n",
      "harry\n",
      "of\n",
      "potter\n",
      "the\n"
     ]
    }
   ],
   "source": [
    "a = \"Harry Potter and the Goblet of fire\"\n",
    "\n",
    "w = a.split()\n",
    "print(w)\n",
    "\n",
    "for i in range (len(w)):\n",
    "    w[i] = w[i].lower()\n",
    "    \n",
    "print(w)\n",
    "\n",
    "w.sort()\n",
    "print(w)\n",
    "\n",
    "for i in w:\n",
    "    print(i)"
   ]
  },
  {
   "cell_type": "markdown",
   "id": "33fa876e",
   "metadata": {},
   "source": [
    "41. Python Program to IIlustrate Different set Operations"
   ]
  },
  {
   "cell_type": "code",
   "execution_count": 9,
   "id": "47586ab8",
   "metadata": {},
   "outputs": [
    {
     "name": "stdout",
     "output_type": "stream",
     "text": [
      "the union is {1, 2, 3, 4, 5, 6, 7, 8, 9}\n",
      "the intersection is {8, 3, 6}\n",
      "the difference is {1, 2, 9}\n",
      "the symmetric difference is {1, 2, 4, 5, 7, 9}\n"
     ]
    }
   ],
   "source": [
    "A = {1,2,3,6,8,9}\n",
    "B = {3,4,5,6,7,8}\n",
    "\n",
    "print(\"the union is\", A | B)\n",
    "print('the intersection is', A & B)\n",
    "print('the difference is', A - B)\n",
    "print('the symmetric difference is', A ^ B)"
   ]
  },
  {
   "cell_type": "markdown",
   "id": "dccc013e",
   "metadata": {},
   "source": [
    "42. Python Program to count theNumber of each vowel"
   ]
  },
  {
   "cell_type": "code",
   "execution_count": 12,
   "id": "6b8139ea",
   "metadata": {},
   "outputs": [
    {
     "name": "stdout",
     "output_type": "stream",
     "text": [
      "harry potter and the prisoner of azkaban\n",
      "{'a': 0, 'e': 0, 'i': 0, 'o': 0, 'u': 0}\n",
      "{'a': 5, 'e': 3, 'i': 1, 'o': 3, 'u': 0}\n"
     ]
    }
   ],
   "source": [
    "# Using Dictionary\n",
    "\n",
    "a = \"Harry Potter and the Prisoner of Azkaban\"\n",
    "\n",
    "vowels = \"aeiou\"\n",
    "a = a.casefold()\n",
    "print(a)\n",
    "\n",
    "count = {}.fromkeys(vowels,0)\n",
    "print(count)\n",
    "\n",
    "for char in a:\n",
    "    if char in count:\n",
    "        count[char]+=1\n",
    "print(count)\n"
   ]
  },
  {
   "cell_type": "code",
   "execution_count": 13,
   "id": "cef78c52",
   "metadata": {},
   "outputs": [
    {
     "name": "stdout",
     "output_type": "stream",
     "text": [
      "{'a': 5, 'e': 3, 'i': 1, 'o': 3, 'u': 0}\n"
     ]
    }
   ],
   "source": [
    "# Using list and dictionary Comprehension\n",
    "\n",
    "a = \"Harry Potter and the Prisoner of Azkaban\"\n",
    "\n",
    "vowels = \"aeiou\"\n",
    "a = a.casefold()\n",
    "\n",
    "\n",
    "count = {key:sum([1 for char in a if char == key])for key in vowels}\n",
    "\n",
    "print(count)"
   ]
  },
  {
   "cell_type": "markdown",
   "id": "e413eb0d",
   "metadata": {},
   "source": [
    "43. Python Program to find the size(resolution) of a image"
   ]
  },
  {
   "cell_type": "code",
   "execution_count": null,
   "id": "4f6ded0b",
   "metadata": {},
   "outputs": [],
   "source": [
    "import PIL\n",
    "from PIL import Image\n",
    "\n",
    "image = PIL.Image.open(\"C:/Users/91955/OneDrive/Pictures/sport-3.jpg/sport-3\")\n",
    "width, height = img.size\n",
    "\n",
    "print(width,\"x\",height)"
   ]
  },
  {
   "cell_type": "markdown",
   "id": "70672934",
   "metadata": {},
   "source": [
    "44. Python program to Merge two dictionaries"
   ]
  },
  {
   "cell_type": "code",
   "execution_count": 15,
   "id": "91e8432c",
   "metadata": {},
   "outputs": [
    {
     "name": "stdout",
     "output_type": "stream",
     "text": [
      "{'John': 89, 'Lisa': 94, 'Peter': 78}\n"
     ]
    }
   ],
   "source": [
    "#using bar | operator\n",
    "\n",
    "dict1 = {'John':89, \"Lisa\":99}\n",
    "dict2 = {\"Lisa\":94, \"Peter\":78}\n",
    "\n",
    "print(dict1 | dict2)"
   ]
  },
  {
   "cell_type": "code",
   "execution_count": 16,
   "id": "7b2960e5",
   "metadata": {},
   "outputs": [
    {
     "name": "stdout",
     "output_type": "stream",
     "text": [
      "{'John': 89, 'Lisa': 94, 'Peter': 78}\n"
     ]
    }
   ],
   "source": [
    "#using ** Operator\n",
    "\n",
    "dict1 = {'John':89, \"Lisa\":99}\n",
    "dict2 = {\"Lisa\":94, \"Peter\":78}\n",
    "\n",
    "print({**dict1, **dict2})"
   ]
  },
  {
   "cell_type": "code",
   "execution_count": 18,
   "id": "3f1451e1",
   "metadata": {},
   "outputs": [
    {
     "name": "stdout",
     "output_type": "stream",
     "text": [
      "{'Lisa': 99, 'Peter': 78, 'John': 89}\n"
     ]
    }
   ],
   "source": [
    "#using copy() and update() methods\n",
    "\n",
    "dict1 = {'John':89, \"Lisa\":99}\n",
    "dict2 = {\"Lisa\":94, \"Peter\":78}\n",
    "\n",
    "dict3 = dict2.copy()\n",
    "dict3.update(dict1)\n",
    "print(dict3)"
   ]
  },
  {
   "cell_type": "markdown",
   "id": "ab187b0f",
   "metadata": {},
   "source": [
    "45. Python Program to safely create a Nested Directory "
   ]
  },
  {
   "cell_type": "code",
   "execution_count": 12,
   "id": "3961c00e",
   "metadata": {},
   "outputs": [],
   "source": [
    "from pathlib import Path\n",
    "Path(\"C:/Users/91955/OneDrive/Python notes$code iNeuron/new_dict/demo_dict\").mkdir(parents=True,exist_ok=True)"
   ]
  },
  {
   "cell_type": "markdown",
   "id": "888ab619",
   "metadata": {},
   "source": [
    "46. Python Program to Access Index of a list using for loop"
   ]
  },
  {
   "cell_type": "code",
   "execution_count": 2,
   "id": "ecb6406c",
   "metadata": {},
   "outputs": [
    {
     "name": "stdout",
     "output_type": "stream",
     "text": [
      "0 - 32\n",
      "1 - 5\n",
      "2 - 61\n",
      "3 - 54\n",
      "4 - 89\n"
     ]
    }
   ],
   "source": [
    "# Using Emumerate Method\n",
    "\n",
    "l = [32,5,61,54,89]\n",
    "for index, value in enumerate(l):\n",
    "    print(index,\"-\",value)"
   ]
  },
  {
   "cell_type": "code",
   "execution_count": 3,
   "id": "c5c05356",
   "metadata": {},
   "outputs": [
    {
     "name": "stdout",
     "output_type": "stream",
     "text": [
      "0 - 32\n",
      "1 - 5\n",
      "2 - 61\n",
      "3 - 54\n",
      "4 - 89\n"
     ]
    }
   ],
   "source": [
    "# Using for loop\n",
    "\n",
    "l = [32,5,61,54,89]\n",
    "\n",
    "for index in range (len(l)):\n",
    "    value=l[index]\n",
    "    print(index,\"-\",value)"
   ]
  },
  {
   "cell_type": "markdown",
   "id": "04eb9d7f",
   "metadata": {},
   "source": [
    "47. Python Program to Slice lists"
   ]
  },
  {
   "cell_type": "code",
   "execution_count": 14,
   "id": "858c2fe5",
   "metadata": {},
   "outputs": [
    {
     "name": "stdout",
     "output_type": "stream",
     "text": [
      "32\n",
      "5\n",
      "[32, 5, 61, 54]\n",
      "[32, 61, 89]\n",
      "[32, 5, 61, 54, 89, 99]\n",
      "[32, 5, 61]\n",
      "[5, 61, 54]\n"
     ]
    }
   ],
   "source": [
    "l = [32,5,61,54,89,99]\n",
    "print(l[0])\n",
    "print(l[-5])\n",
    "print(l[0:4])\n",
    "print(l[0:5:2])\n",
    "print(l[::])\n",
    "print(l[:3])\n",
    "print(l[-5:-2])"
   ]
  },
  {
   "cell_type": "markdown",
   "id": "6ae1e9e6",
   "metadata": {},
   "source": [
    "48. Python program to itterate over dictionaries using for loop"
   ]
  },
  {
   "cell_type": "code",
   "execution_count": 20,
   "id": "6ff7c6f1",
   "metadata": {},
   "outputs": [
    {
     "name": "stdout",
     "output_type": "stream",
     "text": [
      "{'Rachel': 'Rose', 'Monica': 'Chandler', 'Phoebe': 'Joe'}\n",
      "Rachel - Rose\n",
      "Monica - Chandler\n",
      "Phoebe - Joe\n",
      "Rachel : Rose\n",
      "Monica : Chandler\n",
      "Phoebe : Joe\n"
     ]
    }
   ],
   "source": [
    "friends = {\"Rachel\":\"Rose\",\"Monica\":\"Chandler\",\"Phoebe\":\"Joe\"}\n",
    "print(friends)\n",
    "\n",
    "#solution with .items\n",
    "\n",
    "for key, value in friends.items():\n",
    "    print(key,\"-\",value)\n",
    "    \n",
    "#solution with keys\n",
    "for key in friends:\n",
    "    print(key,\":\",friends[key])"
   ]
  },
  {
   "cell_type": "markdown",
   "id": "6e3cd4ce",
   "metadata": {},
   "source": [
    "49. Python Program to sort a Dictionary by Value"
   ]
  },
  {
   "cell_type": "code",
   "execution_count": 24,
   "id": "78a7ee18",
   "metadata": {},
   "outputs": [
    {
     "name": "stdout",
     "output_type": "stream",
     "text": [
      "{'John': 23, 'Lisa': 56, 'Sid': 48}\n",
      "[('John', 23), ('Sid', 48), ('Lisa', 56)]\n",
      "[23, 48, 56]\n"
     ]
    }
   ],
   "source": [
    "marks = {\"John\":23, \"Lisa\":56, \"Sid\":48}\n",
    "print(marks)\n",
    "\n",
    "sort_value = sorted(marks.items(), key = lambda x : x[1])\n",
    "print(sort_value)\n",
    "\n",
    "sort_value = sorted(marks.values())\n",
    "print(sort_value)"
   ]
  },
  {
   "cell_type": "markdown",
   "id": "4989aab5",
   "metadata": {},
   "source": [
    "50. Python program to check if a list is Empty"
   ]
  },
  {
   "cell_type": "code",
   "execution_count": 28,
   "id": "2f181acf",
   "metadata": {},
   "outputs": [
    {
     "name": "stdout",
     "output_type": "stream",
     "text": [
      "list is empty\n",
      "empty list\n",
      "the list is empty\n"
     ]
    }
   ],
   "source": [
    "#using boolean operation\n",
    "my_list = []\n",
    "if not my_list:\n",
    "    print('list is empty')\n",
    "    \n",
    "\n",
    "#using len function\n",
    "my_list=[]\n",
    "if len(my_list)==0:\n",
    "    print('empty list')\n",
    "    \n",
    "    \n",
    "#using square brackets[]\n",
    "my_list = []\n",
    "if my_list == []:\n",
    "    print('the list is empty')"
   ]
  },
  {
   "cell_type": "markdown",
   "id": "a97491a5",
   "metadata": {},
   "source": [
    "51. Python program to Catch Multiple Exceptions in one Line"
   ]
  },
  {
   "cell_type": "code",
   "execution_count": 5,
   "id": "263f1321",
   "metadata": {},
   "outputs": [
    {
     "name": "stdout",
     "output_type": "stream",
     "text": [
      "enter something here: 12\n",
      "enter a number here: 10\n",
      "can only concatenate str (not \"int\") to str\n",
      "thank you\n"
     ]
    }
   ],
   "source": [
    "string = input('enter something here: ')\n",
    "\n",
    "try:\n",
    "    num = int(input('enter a number here: '))\n",
    "    print(string + num)\n",
    "    \n",
    "except(ValueError, TypeError) as a:\n",
    "    print(a)\n",
    "\n",
    "print('thank you')"
   ]
  },
  {
   "cell_type": "markdown",
   "id": "028ede94",
   "metadata": {},
   "source": [
    "52. Python program to copy a file"
   ]
  },
  {
   "cell_type": "code",
   "execution_count": 13,
   "id": "ad1eb14c",
   "metadata": {},
   "outputs": [],
   "source": [
    "from shutil import copyfile\n",
    "copyfile(\"Address for both the file which you want to copy\")"
   ]
  },
  {
   "cell_type": "markdown",
   "id": "27ec755f",
   "metadata": {},
   "source": [
    "53. Python program to Concatenate Two Lists"
   ]
  },
  {
   "cell_type": "code",
   "execution_count": 6,
   "id": "dbb91a39",
   "metadata": {},
   "outputs": [
    {
     "name": "stdout",
     "output_type": "stream",
     "text": [
      "[3, 6, 8, 2, 'a', 'j', 3, 6, 'k', 'f', 'j']\n"
     ]
    }
   ],
   "source": [
    "#using + Operator\n",
    "\n",
    "l1=[3,6,8,2,\"a\",\"j\"]\n",
    "l2=[3,6,\"k\",\"f\",\"j\"]\n",
    "\n",
    "l12= l1 + l2\n",
    "print(l12)"
   ]
  },
  {
   "cell_type": "code",
   "execution_count": 8,
   "id": "695bd8b6",
   "metadata": {},
   "outputs": [
    {
     "name": "stdout",
     "output_type": "stream",
     "text": [
      "[2, 3, 6, 8, 'k', 'j', 'f', 'a']\n"
     ]
    }
   ],
   "source": [
    "#with Unique Values\n",
    "\n",
    "l1=[3,6,8,2,\"a\",\"j\"]\n",
    "l2=[3,6,\"k\",\"f\",\"j\"]\n",
    "\n",
    "l12= list(set(l1+l2))\n",
    "print(l12)"
   ]
  },
  {
   "cell_type": "code",
   "execution_count": 9,
   "id": "a48e4d69",
   "metadata": {},
   "outputs": [
    {
     "name": "stdout",
     "output_type": "stream",
     "text": [
      "[3, 6, 8, 2, 'a', 'j', 3, 6, 'k', 'f', 'j']\n"
     ]
    }
   ],
   "source": [
    "#using Extend() function\n",
    "\n",
    "l1=[3,6,8,2,\"a\",\"j\"]\n",
    "l2=[3,6,\"k\",\"f\",\"j\"]\n",
    "\n",
    "l1.extend(l2)\n",
    "print(l1)"
   ]
  },
  {
   "cell_type": "markdown",
   "id": "4bb55666",
   "metadata": {},
   "source": [
    "54. Python program to Check if a Key is already present in a dictionary"
   ]
  },
  {
   "cell_type": "code",
   "execution_count": 10,
   "id": "acf33239",
   "metadata": {},
   "outputs": [
    {
     "name": "stdout",
     "output_type": "stream",
     "text": [
      "enter a key here: Monica\n",
      "it is present\n"
     ]
    }
   ],
   "source": [
    "friends = {\"Rachel\":\"Rose\",\"Monica\":\"Chandler\",\"Phoebe\":\"Joe\"}\n",
    "\n",
    "name = input('enter a key here: ')\n",
    "if name in friends.keys():\n",
    "    print(\"it is present\")"
   ]
  },
  {
   "cell_type": "markdown",
   "id": "4e2b404c",
   "metadata": {},
   "source": [
    "55. Python Program to Parse a String to a float or int"
   ]
  },
  {
   "cell_type": "code",
   "execution_count": 13,
   "id": "0b0decec",
   "metadata": {},
   "outputs": [
    {
     "name": "stdout",
     "output_type": "stream",
     "text": [
      "<class 'str'>\n",
      "<class 'int'>\n"
     ]
    }
   ],
   "source": [
    "# Using Parse string into integer\n",
    "\n",
    "string = \"12345\"\n",
    "print(type(string))\n",
    "\n",
    "int_str = int(string)\n",
    "print(type(int_str))"
   ]
  },
  {
   "cell_type": "code",
   "execution_count": 16,
   "id": "04b0950a",
   "metadata": {},
   "outputs": [
    {
     "name": "stdout",
     "output_type": "stream",
     "text": [
      "<class 'str'>\n",
      "1234.45\n",
      "<class 'float'>\n",
      "1234.45\n"
     ]
    }
   ],
   "source": [
    "# Using Parse string into float\n",
    "string = \"1234.45\"\n",
    "print(type(string))\n",
    "print(string)\n",
    "\n",
    "float_string = float(string)\n",
    "print(type(float_string))\n",
    "print(float_string)"
   ]
  },
  {
   "cell_type": "code",
   "execution_count": 18,
   "id": "9dab7411",
   "metadata": {},
   "outputs": [
    {
     "name": "stdout",
     "output_type": "stream",
     "text": [
      "<class 'str'>\n",
      "<class 'int'>\n"
     ]
    }
   ],
   "source": [
    "# Parse string float numeral into integer\n",
    "string = \"1234.45\"\n",
    "print(type(string))\n",
    "str_float_int = int(float(string))\n",
    "print(type(str_float_int))"
   ]
  },
  {
   "cell_type": "markdown",
   "id": "6b00e909",
   "metadata": {},
   "source": [
    "56. Python Program to Convert String to DateTime"
   ]
  },
  {
   "cell_type": "code",
   "execution_count": 26,
   "id": "9751f1dd",
   "metadata": {},
   "outputs": [
    {
     "name": "stdout",
     "output_type": "stream",
     "text": [
      "<class 'str'>\n",
      "1997-10-14 07:00:00\n",
      "<class 'datetime.datetime'>\n"
     ]
    }
   ],
   "source": [
    "#using datetime Module\n",
    "\n",
    "from datetime import datetime\n",
    "\n",
    "date = \"Oct 14 1997 7:00AM\"\n",
    "print(type(date))\n",
    "\n",
    "date_time = datetime.strptime(date, \"%b %d %Y %I:%M%p\")\n",
    "print(date_time)\n",
    "print(type(date_time))"
   ]
  },
  {
   "cell_type": "code",
   "execution_count": 27,
   "id": "9453d3db",
   "metadata": {},
   "outputs": [
    {
     "name": "stdout",
     "output_type": "stream",
     "text": [
      "1997-10-14 07:15:00\n",
      "<class 'datetime.datetime'>\n"
     ]
    }
   ],
   "source": [
    "# Using dateutil Module\n",
    "\n",
    "from dateutil import parser\n",
    "\n",
    "date_time = parser.parse(\"Oct 14 1997 7:15AM\")\n",
    "\n",
    "print(date_time)\n",
    "print(type(date_time))"
   ]
  },
  {
   "cell_type": "markdown",
   "id": "e95dc74c",
   "metadata": {},
   "source": [
    "57. Python program to get the last element of the list"
   ]
  },
  {
   "cell_type": "code",
   "execution_count": 29,
   "id": "888e3f0f",
   "metadata": {},
   "outputs": [
    {
     "name": "stdout",
     "output_type": "stream",
     "text": [
      "Vision\n"
     ]
    }
   ],
   "source": [
    "avengers = [\"Ironman\",\"Hulk\",\"Thor\",\"Vision\"]\n",
    "\n",
    "print(avengers[-1])\n"
   ]
  },
  {
   "cell_type": "markdown",
   "id": "e3842654",
   "metadata": {},
   "source": [
    "58. python program to get a substrin of a string"
   ]
  },
  {
   "cell_type": "code",
   "execution_count": 36,
   "id": "1135d0e2",
   "metadata": {},
   "outputs": [
    {
     "name": "stdout",
     "output_type": "stream",
     "text": [
      "H\n",
      "Harry Potter\n",
      "ner of\n"
     ]
    }
   ],
   "source": [
    "a = \"Harry Potter and the Prisoner of Azkaban\"\n",
    "\n",
    "print(a[0])\n",
    "print(a[0:12])\n",
    "print(a[-14:-8])"
   ]
  },
  {
   "cell_type": "markdown",
   "id": "2b90c39d",
   "metadata": {},
   "source": [
    "59. Python program print output without a newline"
   ]
  },
  {
   "cell_type": "code",
   "execution_count": 42,
   "id": "6116fab1",
   "metadata": {},
   "outputs": [
    {
     "name": "stdout",
     "output_type": "stream",
     "text": [
      "Harry Potter\n",
      "and the Goblet of fire\n",
      "Harry Potter and the Goblet of fire\n"
     ]
    }
   ],
   "source": [
    "print(\"Harry Potter\")\n",
    "print(\"and the Goblet of fire\")\n",
    "\n",
    "print(\"Harry Potter\", end = \" \")\n",
    "print(\"and the Goblet of fire\")"
   ]
  },
  {
   "cell_type": "markdown",
   "id": "921d4be7",
   "metadata": {},
   "source": [
    "60. Python Program to find the euclidean distance between two coordinates"
   ]
  },
  {
   "cell_type": "code",
   "execution_count": 34,
   "id": "de3bf93a",
   "metadata": {},
   "outputs": [
    {
     "name": "stdout",
     "output_type": "stream",
     "text": [
      "x1: 4\n",
      "y1: 5\n",
      "x2: 6\n",
      "y2: 8\n",
      "====================================================================================================\n",
      "Eucledian distance for given co-ordinate will be 3.61\n"
     ]
    }
   ],
   "source": [
    "import math\n",
    "\n",
    "x1=float(input('x1: '))\n",
    "y1=float(input('y1: '))\n",
    "x2=float(input('x2: '))\n",
    "y2=float(input('y2: '))\n",
    "\n",
    "x=[x1,y1]\n",
    "y=[x2,y2]\n",
    "print(\"=\"*100)\n",
    "print(\"Eucledian distance for given co-ordinate will be\",round(math.dist(x,y),2))"
   ]
  },
  {
   "cell_type": "markdown",
   "id": "58bbdb45",
   "metadata": {},
   "source": [
    "61. Python Program Randomly select an element from the list"
   ]
  },
  {
   "cell_type": "code",
   "execution_count": 3,
   "id": "4f2e7ca8",
   "metadata": {},
   "outputs": [
    {
     "name": "stdout",
     "output_type": "stream",
     "text": [
      "enter something here: 12\n"
     ]
    }
   ],
   "source": [
    "num = input('enter something here: ')\n",
    "\n",
    "def float_check(num):\n",
    "    try:\n",
    "        float(num)\n",
    "        return True\n",
    "    except:\n",
    "        return False\n",
    "    \n",
    "    print(float_check(num))"
   ]
  },
  {
   "cell_type": "markdown",
   "id": "5bbe30ca",
   "metadata": {},
   "source": [
    "62. Python Program to Check if a string is a number(float"
   ]
  },
  {
   "cell_type": "code",
   "execution_count": 4,
   "id": "1f44d693",
   "metadata": {},
   "outputs": [
    {
     "name": "stdout",
     "output_type": "stream",
     "text": [
      "a\n"
     ]
    }
   ],
   "source": [
    "# Using Random module\n",
    "\n",
    "import random\n",
    "\n",
    "l = [2,5,\"a\",\"y\",8,\"p\"]\n",
    "random_value = random.choice(l)\n",
    "print(random_value)"
   ]
  },
  {
   "cell_type": "code",
   "execution_count": 5,
   "id": "e5f12fe6",
   "metadata": {},
   "outputs": [
    {
     "name": "stdout",
     "output_type": "stream",
     "text": [
      "5\n"
     ]
    }
   ],
   "source": [
    "# Using secret module\n",
    "\n",
    "import secrets\n",
    "\n",
    "l = [2,5,\"a\",\"y\",8,\"p\"]\n",
    "random_value = secrets.choice(l)\n",
    "print(random_value)"
   ]
  },
  {
   "cell_type": "markdown",
   "id": "c76884f9",
   "metadata": {},
   "source": [
    "63. Python program to count the Occurrence of an item in a list"
   ]
  },
  {
   "cell_type": "code",
   "execution_count": 9,
   "id": "308b3206",
   "metadata": {},
   "outputs": [
    {
     "name": "stdout",
     "output_type": "stream",
     "text": [
      "4\n"
     ]
    }
   ],
   "source": [
    "numbers = [10,20,30,20,30,20,40,20,30,50,70,80,90,30]\n",
    "\n",
    "count_occurance = numbers.count(30)\n",
    "print(count_occurance)"
   ]
  },
  {
   "cell_type": "markdown",
   "id": "422fb088",
   "metadata": {},
   "source": [
    "64. Python Program to Print all factors of a given number provided by User"
   ]
  },
  {
   "cell_type": "code",
   "execution_count": 36,
   "id": "2a3e8554",
   "metadata": {},
   "outputs": [
    {
     "name": "stdout",
     "output_type": "stream",
     "text": [
      "Enter a number here: 28\n",
      "1 2 4 7 14 28 "
     ]
    }
   ],
   "source": [
    "n = int(input(\"Enter a number here: \"))\n",
    "\n",
    "for i in range(1,n+1):\n",
    "    if n%i==0:\n",
    "        print(i,end=\" \")"
   ]
  },
  {
   "cell_type": "markdown",
   "id": "fbb58731",
   "metadata": {},
   "source": [
    "65. Python program to Delete an element from a Dictionary"
   ]
  },
  {
   "cell_type": "code",
   "execution_count": 11,
   "id": "a72f20e0",
   "metadata": {},
   "outputs": [
    {
     "name": "stdout",
     "output_type": "stream",
     "text": [
      "{'john': 89, 'Lisa': 96, 'David': 65, 'Peter': 88}\n",
      "{'Lisa': 96, 'David': 65, 'Peter': 88}\n"
     ]
    }
   ],
   "source": [
    "# using del statement\n",
    "\n",
    "marks = {\"john\":89,\"Lisa\":96,\"David\":65,\"Peter\":88}\n",
    "print(marks)\n",
    "del marks[\"john\"]\n",
    "print(marks)"
   ]
  },
  {
   "cell_type": "code",
   "execution_count": 14,
   "id": "1baf180f",
   "metadata": {},
   "outputs": [
    {
     "name": "stdout",
     "output_type": "stream",
     "text": [
      "{'john': 89, 'Lisa': 96, 'David': 65, 'Peter': 88}\n",
      "{'Lisa': 96, 'David': 65, 'Peter': 88}\n"
     ]
    }
   ],
   "source": [
    "# Using pop() function\n",
    "\n",
    "marks = {\"john\":89,\"Lisa\":96,\"David\":65,\"Peter\":88}\n",
    "print(marks)\n",
    "pop_item = marks.pop(\"john\")\n",
    "print(marks)"
   ]
  },
  {
   "cell_type": "markdown",
   "id": "0971321c",
   "metadata": {},
   "source": [
    "66. Python program to Create a Long Multiline string"
   ]
  },
  {
   "cell_type": "code",
   "execution_count": 15,
   "id": "532fc27b",
   "metadata": {},
   "outputs": [
    {
     "name": "stdout",
     "output_type": "stream",
     "text": [
      "Hello everyone\n",
      "this is my demo file\n",
      "hope you all will like it\n"
     ]
    }
   ],
   "source": [
    "# Using triple quotions\n",
    "\n",
    "print(\"\"\"Hello everyone\n",
    "this is my demo file\n",
    "hope you all will like it\"\"\")"
   ]
  },
  {
   "cell_type": "code",
   "execution_count": 16,
   "id": "6de7ee25",
   "metadata": {},
   "outputs": [
    {
     "name": "stdout",
     "output_type": "stream",
     "text": [
      "hello everyone \n",
      "this is demo file \n",
      "I hope you all will like it\n"
     ]
    }
   ],
   "source": [
    "# Using backslash \\n\n",
    "\n",
    "print(\"hello everyone \\nthis is demo file \\nI hope you all will like it\")"
   ]
  },
  {
   "cell_type": "code",
   "execution_count": 17,
   "id": "f4f5c1e2",
   "metadata": {},
   "outputs": [
    {
     "name": "stdout",
     "output_type": "stream",
     "text": [
      "hello everyone\n",
      "this is my demo file\n",
      "hope you all will like it\n"
     ]
    }
   ],
   "source": [
    "# Using \\\n",
    "\n",
    "string = \"hello everyone\\n\"\\\n",
    "          \"this is my demo file\\n\"\\\n",
    "           \"hope you all will like it\"\n",
    "print(string)"
   ]
  },
  {
   "cell_type": "markdown",
   "id": "e8015a59",
   "metadata": {},
   "source": [
    "67. Python program Extract Extension from the file Name"
   ]
  },
  {
   "cell_type": "code",
   "execution_count": null,
   "id": "19d2d080",
   "metadata": {},
   "outputs": [],
   "source": [
    "# using os module\n",
    "\n",
    "import os\n",
    "\n",
    "file_ext = os.path.splitext()"
   ]
  },
  {
   "cell_type": "markdown",
   "id": "9b394253",
   "metadata": {},
   "source": [
    "68. Python program Measure the Elapsed Time "
   ]
  },
  {
   "cell_type": "code",
   "execution_count": 19,
   "id": "ff51630f",
   "metadata": {},
   "outputs": [
    {
     "name": "stdout",
     "output_type": "stream",
     "text": [
      "enter a number here: 45\n",
      "enter a number here: 2\n",
      "9.275777339935303\n"
     ]
    }
   ],
   "source": [
    "# Using time module\n",
    "import time\n",
    "starting_time = time.time()\n",
    "\n",
    "num = int(input('enter a number here: '))\n",
    "num1 = int(input('enter a number here: '))\n",
    "\n",
    "ending_time = time.time()\n",
    "\n",
    "print(ending_time - starting_time)"
   ]
  },
  {
   "cell_type": "code",
   "execution_count": 21,
   "id": "ab12a303",
   "metadata": {},
   "outputs": [
    {
     "name": "stdout",
     "output_type": "stream",
     "text": [
      "hello world\n",
      "0.0002911000046879053\n"
     ]
    }
   ],
   "source": [
    "# Using Timeit module\n",
    "\n",
    "from timeit import default_timer as timer\n",
    "\n",
    "starting_value = timer()\n",
    "\n",
    "print(\"hello world\")\n",
    "\n",
    "ending_value = timer()\n",
    "\n",
    "print(ending_value - starting_value)"
   ]
  },
  {
   "cell_type": "markdown",
   "id": "8f36d499",
   "metadata": {},
   "source": [
    "69. Python program to get the class name of an Instance"
   ]
  },
  {
   "cell_type": "code",
   "execution_count": 22,
   "id": "875addfa",
   "metadata": {},
   "outputs": [
    {
     "name": "stdout",
     "output_type": "stream",
     "text": [
      "Smartphone\n"
     ]
    }
   ],
   "source": [
    "# using __class__.__name__\n",
    "\n",
    "class Smartphone:\n",
    "    def name(self,name):\n",
    "        return name\n",
    "    \n",
    "s1 = Smartphone()\n",
    "print(s1.__class__.__name__)"
   ]
  },
  {
   "cell_type": "code",
   "execution_count": 25,
   "id": "5d496f18",
   "metadata": {},
   "outputs": [
    {
     "name": "stdout",
     "output_type": "stream",
     "text": [
      "<class 'type'>\n"
     ]
    }
   ],
   "source": [
    "# Using type() and __name_-attributes\n",
    "\n",
    "class Smartphone:\n",
    "    def name(self,name):\n",
    "        return name\n",
    "    \n",
    "s1 = Smartphone\n",
    "print(type(s1))"
   ]
  },
  {
   "cell_type": "markdown",
   "id": "16ca2b5e",
   "metadata": {},
   "source": [
    "70. Python program to Convert Two lists into a Dictionary"
   ]
  },
  {
   "cell_type": "code",
   "execution_count": 28,
   "id": "f81af536",
   "metadata": {},
   "outputs": [
    {
     "name": "stdout",
     "output_type": "stream",
     "text": [
      "{'John': 98, 'Peter': 78, 'Lisa': 88, 'David': 72}\n"
     ]
    }
   ],
   "source": [
    "# Using zip() and Dictionary Methods\n",
    "\n",
    "name = [\"John\",\"Peter\",\"Lisa\",\"David\"]\n",
    "marks = [98,78,88,72]\n",
    "\n",
    "dicti = zip(name,marks)\n",
    "\n",
    "print(dict(dicti))"
   ]
  },
  {
   "cell_type": "code",
   "execution_count": 29,
   "id": "f3a34f81",
   "metadata": {},
   "outputs": [
    {
     "name": "stdout",
     "output_type": "stream",
     "text": [
      "{'John': 98, 'Peter': 78, 'Lisa': 88, 'David': 72}\n"
     ]
    }
   ],
   "source": [
    "# Using zip() and List Comprehension\n",
    "\n",
    "name = [\"John\",\"Peter\",\"Lisa\",\"David\"]\n",
    "marks = [98,78,88,72]\n",
    "\n",
    "dicti = {key:value for key,value in zip(name,marks)}\n",
    "print(dicti)"
   ]
  },
  {
   "cell_type": "markdown",
   "id": "23b0efad",
   "metadata": {},
   "source": [
    "71. Program to Differentiate Between type() and isinstance()"
   ]
  },
  {
   "cell_type": "code",
   "execution_count": 44,
   "id": "f9b29462",
   "metadata": {},
   "outputs": [
    {
     "name": "stdout",
     "output_type": "stream",
     "text": [
      "True\n",
      "False\n",
      "\n",
      "True\n",
      "True\n"
     ]
    }
   ],
   "source": [
    "class SmartPhone:\n",
    "    def name(self):\n",
    "        pass\n",
    "class Nokia(SmartPhone):\n",
    "    def phone_name(self):\n",
    "        pass\n",
    "\n",
    "obj_SP = SmartPhone()\n",
    "obj_N = Nokia()\n",
    "\n",
    "print(type(obj_SP)==SmartPhone)\n",
    "print(type(obj_N)==SmartPhone)\n",
    "print()\n",
    "print(isinstance(obj_SP,SmartPhone))\n",
    "print(isinstance(obj_N,Nokia))"
   ]
  },
  {
   "cell_type": "markdown",
   "id": "95be7472",
   "metadata": {},
   "source": [
    "72. Python Program to Trim Whitespace from a string"
   ]
  },
  {
   "cell_type": "code",
   "execution_count": 31,
   "id": "8421bf50",
   "metadata": {},
   "outputs": [
    {
     "name": "stdout",
     "output_type": "stream",
     "text": [
      "\n",
      "I love Python\n",
      "\n",
      "I love Python\n"
     ]
    }
   ],
   "source": [
    "# Using strip9 function\n",
    "\n",
    "string = \"\\nI love Python\"\n",
    "print(string)\n",
    "print(string.strip(\" \"))"
   ]
  },
  {
   "cell_type": "code",
   "execution_count": 33,
   "id": "549c22cd",
   "metadata": {},
   "outputs": [
    {
     "name": "stdout",
     "output_type": "stream",
     "text": [
      "I Love Python\n"
     ]
    }
   ],
   "source": [
    "# Using Regular Expressions (regex)\n",
    "\n",
    "import re\n",
    "\n",
    "\n",
    "string = \"I Love Python\"\n",
    "x = re.sub(r'^\\s+|\\s+$','',string)\n",
    "print(x)"
   ]
  },
  {
   "cell_type": "markdown",
   "id": "dad15b0e",
   "metadata": {},
   "source": [
    "73. Pyhton program to Get the file Name from the file path"
   ]
  },
  {
   "cell_type": "code",
   "execution_count": 48,
   "id": "7f85cd4f",
   "metadata": {},
   "outputs": [
    {
     "name": "stdout",
     "output_type": "stream",
     "text": [
      "new_dict\n"
     ]
    }
   ],
   "source": [
    "import os\n",
    "\n",
    "file_name = os.path.basename(\"C:/Users/91955/OneDrive/Python notes$code iNeuron/new_dict.py\")\n",
    "\n",
    "print(os.path.splitext(file_name)[0])"
   ]
  },
  {
   "cell_type": "markdown",
   "id": "859ae235",
   "metadata": {},
   "source": [
    "74. Python program to Represent enum"
   ]
  },
  {
   "cell_type": "code",
   "execution_count": 45,
   "id": "1206cc18",
   "metadata": {},
   "outputs": [
    {
     "name": "stdout",
     "output_type": "stream",
     "text": [
      "SmartPhones.Samsung\n",
      "Samsung\n",
      "1\n"
     ]
    }
   ],
   "source": [
    "from enum import Enum\n",
    "\n",
    "class SmartPhones(Enum):\n",
    "    Samsung = 1\n",
    "    Nokia = 2\n",
    "    Apple = 3\n",
    "print (SmartPhones.Samsung)\n",
    "print (SmartPhones.Samsung.name)\n",
    "print (SmartPhones.Samsung.value)"
   ]
  },
  {
   "cell_type": "markdown",
   "id": "d0715ef3",
   "metadata": {},
   "source": [
    "75. Python program to Return Multiple values from a function"
   ]
  },
  {
   "cell_type": "code",
   "execution_count": 8,
   "id": "b94865b9",
   "metadata": {},
   "outputs": [
    {
     "name": "stdout",
     "output_type": "stream",
     "text": [
      "('Joe', 'Shaad')\n",
      "Joe , Shaad\n"
     ]
    }
   ],
   "source": [
    "# Using Tuples Unpacking\n",
    "\n",
    "def friends():\n",
    "    return \"Joe\",\"Shaad\"\n",
    "print(friends())\n",
    "\n",
    "n1, n2 = friends()\n",
    "print(n1,\",\",n2)"
   ]
  },
  {
   "cell_type": "code",
   "execution_count": 10,
   "id": "66695e3d",
   "metadata": {},
   "outputs": [
    {
     "name": "stdout",
     "output_type": "stream",
     "text": [
      "{1: 'Joe', 2: 'Shaad'}\n",
      "{1: 'Joe', 2: 'Shaad'}\n",
      "Joe , Shaad\n"
     ]
    }
   ],
   "source": [
    "#Using a Dictionary\n",
    "\n",
    "def friends():\n",
    "    n1 = \"Joe\"\n",
    "    n2 = \"Shaad\"\n",
    "    \n",
    "    return {1:n1,2:n2}\n",
    "print(friends())\n",
    "names = friends()\n",
    "print(names)\n",
    "print(names[1],\",\",names[2])"
   ]
  },
  {
   "cell_type": "markdown",
   "id": "c88367bd",
   "metadata": {},
   "source": [
    "76. Python program to Accept any three string from one input() call"
   ]
  },
  {
   "cell_type": "code",
   "execution_count": 52,
   "id": "3b1adf85",
   "metadata": {},
   "outputs": [
    {
     "name": "stdout",
     "output_type": "stream",
     "text": [
      "Enter the three names with keeping space in between: Shaad Dollmy Shadab\n",
      "Shaad\n",
      "Dollmy\n",
      "Shadab\n"
     ]
    }
   ],
   "source": [
    "inp = (input(\"Enter the three names with keeping space in between: \"))\n",
    "sep = inp.split()\n",
    "\n",
    "#print(sep)\n",
    "\n",
    "name1=sep[0]\n",
    "name2=sep[1]\n",
    "name3=sep[2]\n",
    "\n",
    "print(name1)\n",
    "print(name2)\n",
    "print(name3)\n"
   ]
  },
  {
   "cell_type": "markdown",
   "id": "ca3e25f4",
   "metadata": {},
   "source": [
    "77. Python program to Iterate through Two List in Parallel"
   ]
  },
  {
   "cell_type": "code",
   "execution_count": 12,
   "id": "e2eaf455",
   "metadata": {},
   "outputs": [
    {
     "name": "stdout",
     "output_type": "stream",
     "text": [
      "(('Rachel', 'Rose'), ('Monica', 'Chandler'), ('Phoebe', 'Joe'))\n",
      "Rachel Rose\n",
      "Monica Chandler\n",
      "Phoebe Joe\n"
     ]
    }
   ],
   "source": [
    "l1 = [\"Rachel\",\"Monica\",\"Phoebe\"]\n",
    "l2 = [\"Rose\",\"Chandler\",\"Joe\"]\n",
    "print(tuple(zip(l1,l2)))\n",
    "\n",
    "for x,y in zip(l1,l2):\n",
    "    print(x,y)"
   ]
  },
  {
   "cell_type": "markdown",
   "id": "c17a5920",
   "metadata": {},
   "source": [
    "78. Python program to Reverse a Number"
   ]
  },
  {
   "cell_type": "code",
   "execution_count": 13,
   "id": "2a300aa8",
   "metadata": {},
   "outputs": [
    {
     "name": "stdout",
     "output_type": "stream",
     "text": [
      "enter a number here: 9876\n",
      "the reverse of the given is 6789\n"
     ]
    }
   ],
   "source": [
    "# Using While Loop\n",
    "\n",
    "num = int(input(\"enter a number here: \"))\n",
    "\n",
    "reverse_num = 0\n",
    "while num != 0:\n",
    "    digit = num%10\n",
    "    reverse_num = reverse_num * 10 + digit\n",
    "    num = num//10\n",
    "    \n",
    "print('the reverse of the given is', reverse_num)"
   ]
  },
  {
   "cell_type": "code",
   "execution_count": 14,
   "id": "36f3f8f0",
   "metadata": {},
   "outputs": [
    {
     "name": "stdout",
     "output_type": "stream",
     "text": [
      "enter a number here: 1234\n",
      "4321\n"
     ]
    }
   ],
   "source": [
    "# Using String slicing\n",
    "\n",
    "num = int(input(\"enter a number here: \"))\n",
    "print(str(num)[::-1])"
   ]
  },
  {
   "cell_type": "markdown",
   "id": "3002ec6c",
   "metadata": {},
   "source": [
    "79. Python Program to Compute the Power of a number"
   ]
  },
  {
   "cell_type": "code",
   "execution_count": 15,
   "id": "69040989",
   "metadata": {},
   "outputs": [
    {
     "name": "stdout",
     "output_type": "stream",
     "text": [
      "enter a number here: 3\n",
      "enter a exponent here: 3\n",
      "the computed value is 27\n"
     ]
    }
   ],
   "source": [
    "# while loop\n",
    "\n",
    "base = int(input(\"enter a number here: \"))\n",
    "exponent = int(input(\"enter a exponent here: \"))\n",
    "\n",
    "result = 1\n",
    "while exponent != 0:\n",
    "    result = result*base\n",
    "    exponent = exponent-1\n",
    "    \n",
    "print('the computed value is',result)"
   ]
  },
  {
   "cell_type": "code",
   "execution_count": 17,
   "id": "8ce4be15",
   "metadata": {},
   "outputs": [
    {
     "name": "stdout",
     "output_type": "stream",
     "text": [
      "enter a number here: 2\n",
      "enter a exponent here: 5\n",
      "the computed value is 32\n"
     ]
    }
   ],
   "source": [
    "# for loop\n",
    "\n",
    "base = int(input(\"enter a number here: \"))\n",
    "exponent = int(input(\"enter a exponent here: \"))\n",
    "\n",
    "result = 1\n",
    "for i in range (exponent,0,-1):\n",
    "    result = result*base\n",
    "    \n",
    "print('the computed value is',result)"
   ]
  },
  {
   "cell_type": "code",
   "execution_count": 1,
   "id": "266578a0",
   "metadata": {},
   "outputs": [
    {
     "name": "stdout",
     "output_type": "stream",
     "text": [
      "the computed value is 81\n"
     ]
    }
   ],
   "source": [
    "# using power() function\n",
    "\n",
    "base = 3\n",
    "exponent = 4\n",
    "x = pow(base,exponent)\n",
    "print('the computed value is',x)"
   ]
  },
  {
   "cell_type": "code",
   "execution_count": 2,
   "id": "fdd60d06",
   "metadata": {},
   "outputs": [
    {
     "name": "stdout",
     "output_type": "stream",
     "text": [
      "the computed value is 32\n"
     ]
    }
   ],
   "source": [
    "# Using Exponentiation Operator\n",
    "\n",
    "base = 2\n",
    "exponent = 5\n",
    "value = base**exponent\n",
    "print('the computed value is',value)"
   ]
  },
  {
   "cell_type": "markdown",
   "id": "bf5e86dc",
   "metadata": {},
   "source": [
    "80. Python program to count the number of Digits Present in a number"
   ]
  },
  {
   "cell_type": "code",
   "execution_count": 3,
   "id": "223e1440",
   "metadata": {},
   "outputs": [
    {
     "name": "stdout",
     "output_type": "stream",
     "text": [
      "enter a number here: 12345\n",
      "5\n"
     ]
    }
   ],
   "source": [
    "# Using while function\n",
    "\n",
    "num = int(input(\"enter a number here: \"))\n",
    "\n",
    "count = 0\n",
    "while num != 0:\n",
    "    num = num //10\n",
    "    count = count + 1\n",
    "    \n",
    "print(count)\n"
   ]
  },
  {
   "cell_type": "code",
   "execution_count": 5,
   "id": "4840c285",
   "metadata": {},
   "outputs": [
    {
     "name": "stdout",
     "output_type": "stream",
     "text": [
      "5\n"
     ]
    }
   ],
   "source": [
    "# Using len() Function\n",
    "\n",
    "num = 12345\n",
    "\n",
    "x = len(str(num))\n",
    "print(x)"
   ]
  },
  {
   "cell_type": "markdown",
   "id": "75484023",
   "metadata": {},
   "source": [
    "81. Python program to check if two strings are Anagram"
   ]
  },
  {
   "cell_type": "code",
   "execution_count": 7,
   "id": "cda7046c",
   "metadata": {},
   "outputs": [
    {
     "name": "stdout",
     "output_type": "stream",
     "text": [
      "['b', 'e', 'l', 'o', 'w']\n",
      "the string is Anagram\n"
     ]
    }
   ],
   "source": [
    "a1 = \"elbow\"\n",
    "a2 = \"below\"\n",
    "\n",
    "if len(a1) == len(a2):\n",
    "    a1_sorted = sorted(a1)\n",
    "    a2_sorted = sorted(a2)\n",
    "print(sorted(a1))\n",
    "\n",
    "if a1_sorted == a2_sorted:\n",
    "    print('the string is Anagram')\n",
    "else:\n",
    "    print('the string is not an Anagram')"
   ]
  },
  {
   "cell_type": "markdown",
   "id": "768e2071",
   "metadata": {},
   "source": [
    "82. Python Program to Capitalize the First Character of a string"
   ]
  },
  {
   "cell_type": "code",
   "execution_count": 9,
   "id": "74010f92",
   "metadata": {},
   "outputs": [
    {
     "name": "stdout",
     "output_type": "stream",
     "text": [
      "School\n"
     ]
    }
   ],
   "source": [
    "# Using .upper() and slicing Concept\n",
    "\n",
    "a = \"school\"\n",
    "\n",
    "print(a[0].upper()+a[1:])"
   ]
  },
  {
   "cell_type": "code",
   "execution_count": 10,
   "id": "78d4d856",
   "metadata": {},
   "outputs": [
    {
     "name": "stdout",
     "output_type": "stream",
     "text": [
      "School\n"
     ]
    }
   ],
   "source": [
    "# Using .acpitalize()\n",
    "\n",
    "a = \"school\"\n",
    "print(a.capitalize())"
   ]
  },
  {
   "cell_type": "markdown",
   "id": "4b963de8",
   "metadata": {},
   "source": [
    "83. Python program to create a countdown Timer"
   ]
  },
  {
   "cell_type": "code",
   "execution_count": 29,
   "id": "3799e627",
   "metadata": {},
   "outputs": [
    {
     "name": "stdout",
     "output_type": "stream",
     "text": [
      "00:10\n",
      "00:09\n",
      "00:08\n",
      "00:07\n",
      "00:06\n",
      "00:05\n",
      "00:04\n",
      "00:03\n",
      "00:02\n",
      "00:01\n",
      "Stop\n"
     ]
    }
   ],
   "source": [
    "import time\n",
    "\n",
    "def countdown(sec):\n",
    "    while sec:\n",
    "        mins,secs = divmod(sec, 60)\n",
    "        time_format = \"{:02d}:{:02d}\".format(mins,secs)\n",
    "        print(time_format)\n",
    "        time.sleep(1)\n",
    "        sec -= 1\n",
    "        \n",
    "        \n",
    "    print(\"Stop\")\n",
    "\n",
    "countdown(10) "
   ]
  },
  {
   "cell_type": "markdown",
   "id": "0d3a293b",
   "metadata": {},
   "source": [
    "84. Program to count the number of Occurence of a chracter in string"
   ]
  },
  {
   "cell_type": "code",
   "execution_count": 30,
   "id": "1c853c72",
   "metadata": {},
   "outputs": [
    {
     "name": "stdout",
     "output_type": "stream",
     "text": [
      "0\n"
     ]
    }
   ],
   "source": [
    "string = \"elephantisbighuge\"\n",
    "char = \"e\"\n",
    "\n",
    "count = 0\n",
    "for i in string:\n",
    "    if i == char:\n",
    "        count == count + 1\n",
    "        \n",
    "print(count)"
   ]
  },
  {
   "cell_type": "code",
   "execution_count": 31,
   "id": "5df72751",
   "metadata": {},
   "outputs": [
    {
     "name": "stdout",
     "output_type": "stream",
     "text": [
      "2\n"
     ]
    }
   ],
   "source": [
    "string = \"wscubetech\"\n",
    "chrac = \"e\"\n",
    "\n",
    "print(string.count(char))"
   ]
  },
  {
   "cell_type": "markdown",
   "id": "25a40a50",
   "metadata": {},
   "source": [
    "85. Python program to remove duplicate element from a list"
   ]
  },
  {
   "cell_type": "code",
   "execution_count": 32,
   "id": "640bc2a8",
   "metadata": {},
   "outputs": [
    {
     "name": "stdout",
     "output_type": "stream",
     "text": [
      "[12, 4, 5, 6, 12, 7, 8, 12, 9, 12]\n",
      "{4, 5, 6, 7, 8, 9, 12}\n"
     ]
    }
   ],
   "source": [
    "l = [12,4,5,6,12,7,8,12,9,12]\n",
    "print(l)\n",
    "\n",
    "print(set(l))"
   ]
  },
  {
   "cell_type": "markdown",
   "id": "6c547f81",
   "metadata": {},
   "source": [
    "86. Program to find the volume of the cylinder.Also find the cost whenthe cost of 1litre milk is 58Rs."
   ]
  },
  {
   "cell_type": "code",
   "execution_count": 55,
   "id": "9c3fea6c",
   "metadata": {},
   "outputs": [
    {
     "name": "stdout",
     "output_type": "stream",
     "text": [
      "enter the radius of cylinder in cm: 60\n",
      "enter the height of the cylinder in cm: 6\n",
      "\n",
      "volume of the cylinder will be 67867.2\n",
      "How much milk we can carry in this cylinder 67.8672 ltr\n",
      "This cost of the milk will be 3936.2976\n"
     ]
    }
   ],
   "source": [
    "rad = float(input('enter the radius of cylinder in cm: '))\n",
    "ht = float(input('enter the height of the cylinder in cm: '))\n",
    "\n",
    "vol=3.142*(rad**2)*ht\n",
    "litr=vol/1000\n",
    "cost=litr*58\n",
    "\n",
    "print()\n",
    "\n",
    "print('volume of the cylinder will be', vol)\n",
    "print('How much milk we can carry in this cylinder',litr,'ltr')\n",
    "print('This cost of the milk will be',cost)"
   ]
  },
  {
   "cell_type": "markdown",
   "id": "0390b8fc",
   "metadata": {},
   "source": [
    "87. Program to Print Multiplication table from 1 to 10"
   ]
  },
  {
   "cell_type": "code",
   "execution_count": 56,
   "id": "8c5e1493",
   "metadata": {},
   "outputs": [
    {
     "name": "stdout",
     "output_type": "stream",
     "text": [
      "1 2 3 4 5 6 7 8 9 10 \n",
      "\n",
      "2 4 6 8 10 12 14 16 18 20 \n",
      "\n",
      "3 6 9 12 15 18 21 24 27 30 \n",
      "\n",
      "4 8 12 16 20 24 28 32 36 40 \n",
      "\n",
      "5 10 15 20 25 30 35 40 45 50 \n",
      "\n",
      "6 12 18 24 30 36 42 48 54 60 \n",
      "\n",
      "7 14 21 28 35 42 49 56 63 70 \n",
      "\n",
      "8 16 24 32 40 48 56 64 72 80 \n",
      "\n",
      "9 18 27 36 45 54 63 72 81 90 \n",
      "\n",
      "10 20 30 40 50 60 70 80 90 100 \n",
      "\n"
     ]
    }
   ],
   "source": [
    "for i in range(1,11):\n",
    "    for j in range(1,11):\n",
    "        print(i*j,end=\" \")\n",
    "    print(\"\\n\")"
   ]
  },
  {
   "cell_type": "markdown",
   "id": "0caf9171",
   "metadata": {},
   "source": [
    "88. Program to Print the following pattern.\n",
    "\n",
    "\n",
    "1\n",
    "1 2\n",
    "1 2 3\n",
    "1 2 3 4\n",
    "1 2 3 4 5"
   ]
  },
  {
   "cell_type": "code",
   "execution_count": 60,
   "id": "d1ea8cb0",
   "metadata": {},
   "outputs": [
    {
     "name": "stdout",
     "output_type": "stream",
     "text": [
      "1 \n",
      "\n",
      "1 2 \n",
      "\n",
      "1 2 3 \n",
      "\n",
      "1 2 3 4 \n",
      "\n",
      "1 2 3 4 5 \n",
      "\n"
     ]
    }
   ],
   "source": [
    "n = 5\n",
    "\n",
    "for i in range(1,n+1):\n",
    "    for j in range(1,i+1):\n",
    "        print(j,end=\" \")\n",
    "        \n",
    "    print(\"\\n\")"
   ]
  },
  {
   "cell_type": "markdown",
   "id": "1416774e",
   "metadata": {},
   "source": [
    "89. Program to find the max item from list without using the max function"
   ]
  },
  {
   "cell_type": "code",
   "execution_count": 61,
   "id": "9039b651",
   "metadata": {},
   "outputs": [
    {
     "name": "stdout",
     "output_type": "stream",
     "text": [
      "8\n"
     ]
    }
   ],
   "source": [
    "l1 = [4,6,2,8,1]\n",
    "\n",
    "l1.sort(reverse=True)\n",
    "\n",
    "print(l1[0])"
   ]
  },
  {
   "cell_type": "markdown",
   "id": "5e98999c",
   "metadata": {},
   "source": [
    "90. Python Program to find simple interest when the value of principle,rate of interest and time periord is giving"
   ]
  },
  {
   "cell_type": "code",
   "execution_count": 1,
   "id": "d0f0720d",
   "metadata": {},
   "outputs": [
    {
     "name": "stdout",
     "output_type": "stream",
     "text": [
      "Principle Amount: 80000\n",
      "Rate of Interest: 12\n",
      "For the time period: 5\n",
      "48000.0\n",
      "Total due amount will be 128000.0\n"
     ]
    }
   ],
   "source": [
    "P = float(input('Principle Amount: '))\n",
    "R = float(input('Rate of Interest: '))\n",
    "T = float(input('For the time period: '))\n",
    "\n",
    "Simple_Interest = (P*R*T)/100\n",
    "\n",
    "print(Simple_Interest)\n",
    "\n",
    "total_due = P+Simple_Interest\n",
    "\n",
    "print('Total due amount will be',total_due)"
   ]
  },
  {
   "cell_type": "markdown",
   "id": "23a34a8f",
   "metadata": {},
   "source": [
    "91. Python Program to create a function tthat takes two arguments.\n",
    "    name and age and print their value"
   ]
  },
  {
   "cell_type": "code",
   "execution_count": 3,
   "id": "b69b0ddf",
   "metadata": {},
   "outputs": [
    {
     "name": "stdout",
     "output_type": "stream",
     "text": [
      "Name of the Person is Shadab and Age is 24\n"
     ]
    }
   ],
   "source": [
    "def biodata(name,age):\n",
    "    print('Name of the Person is {} and Age is {}'.format(name,age))\n",
    "    \n",
    "biodata('Shadab',24)"
   ]
  },
  {
   "cell_type": "markdown",
   "id": "94d0bb34",
   "metadata": {},
   "source": [
    "92. Python Program which can remove a particular character from a string."
   ]
  },
  {
   "cell_type": "code",
   "execution_count": 6,
   "id": "0d4def99",
   "metadata": {},
   "outputs": [
    {
     "name": "stdout",
     "output_type": "stream",
     "text": [
      "enter the string here: shadMab\n",
      "enter the character you want to remove: M\n",
      "shadab\n"
     ]
    }
   ],
   "source": [
    "a = input('enter the string here: ')\n",
    "b = input('enter the character you want to remove: ')\n",
    "\n",
    "a=a.replace(b,\"\")\n",
    "print(a)"
   ]
  },
  {
   "cell_type": "markdown",
   "id": "93122b8f",
   "metadata": {},
   "source": [
    "93. Python Program to print the first 25 odd number"
   ]
  },
  {
   "cell_type": "code",
   "execution_count": 7,
   "id": "ecfb685a",
   "metadata": {},
   "outputs": [
    {
     "name": "stdout",
     "output_type": "stream",
     "text": [
      "[1, 3, 5, 7, 9, 11, 13, 15, 17, 19, 21, 23, 25, 27, 29, 31, 33, 35, 37, 39, 41, 43, 45, 47, 49]\n"
     ]
    }
   ],
   "source": [
    "flag = 0\n",
    "i = 1\n",
    "\n",
    "odd_list=[]\n",
    "\n",
    "while True:\n",
    "    if i%2 !=0:\n",
    "        odd_list.append(i)\n",
    "        flag=flag+1\n",
    "    if flag ==25:\n",
    "        break\n",
    "    i=i+1\n",
    "    \n",
    "print(odd_list)"
   ]
  },
  {
   "cell_type": "markdown",
   "id": "5525df98",
   "metadata": {},
   "source": [
    "94. Python Program to generate list of all even numbers between 2 to 30"
   ]
  },
  {
   "cell_type": "code",
   "execution_count": 10,
   "id": "09784fa3",
   "metadata": {},
   "outputs": [
    {
     "name": "stdout",
     "output_type": "stream",
     "text": [
      "2 4 6 8 10 12 14 16 18 20 22 24 26 28 30 "
     ]
    }
   ],
   "source": [
    "for i in range(2,31):\n",
    "    if i%2==0:\n",
    "        print(i,end=\" \")"
   ]
  },
  {
   "cell_type": "code",
   "execution_count": 11,
   "id": "65b6147f",
   "metadata": {},
   "outputs": [
    {
     "data": {
      "text/plain": [
       "[2, 4, 6, 8, 10, 12, 14, 16, 18, 20, 22, 24, 26, 28, 30]"
      ]
     },
     "execution_count": 11,
     "metadata": {},
     "output_type": "execute_result"
    }
   ],
   "source": [
    "#Another way\n",
    "list(range(2,31,2))"
   ]
  },
  {
   "cell_type": "markdown",
   "id": "3cff8d13",
   "metadata": {},
   "source": [
    "95. Python Program to first 25 prime number"
   ]
  },
  {
   "cell_type": "code",
   "execution_count": 3,
   "id": "f333b40e",
   "metadata": {},
   "outputs": [
    {
     "name": "stdout",
     "output_type": "stream",
     "text": [
      "2 3 5 7 11 13 17 19 23 29 31 37 41 43 47 53 59 61 67 71 73 79 83 89 97 "
     ]
    }
   ],
   "source": [
    "def is_prime(x):\n",
    "    new=[]\n",
    "    if x<=1:\n",
    "        return false\n",
    "    else:\n",
    "        for i in range(1,x+1):\n",
    "            if x%i==0:\n",
    "                new.append(i)\n",
    "                \n",
    "    if len(new)<=2:\n",
    "        return True\n",
    "    else:\n",
    "        return False\n",
    "    \n",
    "count=0\n",
    "num=2\n",
    "\n",
    "while count<25:\n",
    "    if is_prime(num)==True:\n",
    "        print(num,end=\" \")\n",
    "        count+=1\n",
    "        \n",
    "    num+=1"
   ]
  },
  {
   "cell_type": "markdown",
   "id": "62dbac44",
   "metadata": {},
   "source": [
    "96. Python Program to the max item of each row of a matrix.a"
   ]
  },
  {
   "cell_type": "code",
   "execution_count": 2,
   "id": "4a9d8dfa",
   "metadata": {},
   "outputs": [
    {
     "name": "stdout",
     "output_type": "stream",
     "text": [
      "[[1 2 3]\n",
      " [4 5 6]\n",
      " [7 8 9]]\n"
     ]
    },
    {
     "data": {
      "text/plain": [
       "9"
      ]
     },
     "execution_count": 2,
     "metadata": {},
     "output_type": "execute_result"
    }
   ],
   "source": [
    "import numpy as np\n",
    "\n",
    "x = [[1,2,3],[4,5,6],[7,8,9]]\n",
    "\n",
    "y =np.asarray(x)\n",
    "\n",
    "print(y)\n",
    "\n",
    "y.max()"
   ]
  },
  {
   "cell_type": "markdown",
   "id": "4b2e5fb4",
   "metadata": {},
   "source": [
    "97. Python program to Remove empty strings from a list of strings"
   ]
  },
  {
   "cell_type": "code",
   "execution_count": 4,
   "id": "4b71d9d1",
   "metadata": {},
   "outputs": [
    {
     "name": "stdout",
     "output_type": "stream",
     "text": [
      "['shaad', 'John', 'Dolly', 'Eric']\n"
     ]
    }
   ],
   "source": [
    "str_list = ['shaad', 'John', \"\", 'Dolly', None, \"Eric\", \"\"]\n",
    "\n",
    "for i in str_list:\n",
    "    if i ==\"\" or i==None:\n",
    "        str_list.remove(i)\n",
    "        \n",
    "print(str_list)"
   ]
  },
  {
   "cell_type": "markdown",
   "id": "33d52e73",
   "metadata": {},
   "source": [
    "98. Python program to Remove empty strings from a list of strings using lambda function"
   ]
  },
  {
   "cell_type": "code",
   "execution_count": 7,
   "id": "ea793ead",
   "metadata": {},
   "outputs": [
    {
     "name": "stdout",
     "output_type": "stream",
     "text": [
      "['shaad', 'John', 'Dolly', None, 'Eric']\n"
     ]
    }
   ],
   "source": [
    "str_list = ['shaad', 'John', \"\", 'Dolly', None, \"Eric\", \"\"]\n",
    "\n",
    "result =list(filter(lambda x: x!=\"\",str_list))\n",
    "\n",
    "print(result)"
   ]
  },
  {
   "cell_type": "markdown",
   "id": "d83cc6a0",
   "metadata": {},
   "source": [
    "99. Python Program to Update set1 by adding items from set2, except common items"
   ]
  },
  {
   "cell_type": "code",
   "execution_count": 8,
   "id": "ee3954d1",
   "metadata": {},
   "outputs": [
    {
     "name": "stdout",
     "output_type": "stream",
     "text": [
      "{20, 70, 10, 60}\n"
     ]
    }
   ],
   "source": [
    "set1 = {10,20,30,40,50}\n",
    "\n",
    "set2 = {30,40,50,60,70}\n",
    "\n",
    "set1.symmetric_difference_update(set2)\n",
    "\n",
    "print(set1)"
   ]
  },
  {
   "cell_type": "markdown",
   "id": "d33a98a4",
   "metadata": {},
   "source": [
    "100. Python Program to Convert dictionary into JSON format"
   ]
  },
  {
   "cell_type": "code",
   "execution_count": 10,
   "id": "334b69b5",
   "metadata": {},
   "outputs": [
    {
     "name": "stdout",
     "output_type": "stream",
     "text": [
      "{\"key1\": \"value1\", \"key2\": \"value2\"}\n"
     ]
    }
   ],
   "source": [
    "import json\n",
    "\n",
    "data = {'key1' : \"value1\", \"key2\" : \"value2\"}\n",
    "\n",
    "jsondata=json.dumps(data)\n",
    "\n",
    "print(jsondata)"
   ]
  },
  {
   "cell_type": "markdown",
   "id": "b6bb2a45",
   "metadata": {},
   "source": [
    "101. Python Program tha will take user input of cost price and selling price and determine whether its a loss or profit."
   ]
  },
  {
   "cell_type": "code",
   "execution_count": 12,
   "id": "3fe8846d",
   "metadata": {},
   "outputs": [
    {
     "name": "stdout",
     "output_type": "stream",
     "text": [
      "The cost of the Product: 150\n",
      "The selling Price of Product: 257\n",
      "It is profit by 107\n"
     ]
    }
   ],
   "source": [
    "cost = int(input('The cost of the Product: '))\n",
    "sell = int(input('The selling Price of Product: '))\n",
    "\n",
    "if (sell-cost)>0:\n",
    "    amount=sell-cost\n",
    "    print('It is profit by',amount)\n",
    "else:\n",
    "    amount=sell-cost\n",
    "    print('It is loss by',amount)"
   ]
  },
  {
   "cell_type": "code",
   "execution_count": null,
   "id": "2ebb1be6",
   "metadata": {},
   "outputs": [],
   "source": []
  },
  {
   "cell_type": "code",
   "execution_count": null,
   "id": "1e996268",
   "metadata": {},
   "outputs": [],
   "source": []
  }
 ],
 "metadata": {
  "kernelspec": {
   "display_name": "Python 3 (ipykernel)",
   "language": "python",
   "name": "python3"
  },
  "language_info": {
   "codemirror_mode": {
    "name": "ipython",
    "version": 3
   },
   "file_extension": ".py",
   "mimetype": "text/x-python",
   "name": "python",
   "nbconvert_exporter": "python",
   "pygments_lexer": "ipython3",
   "version": "3.11.5"
  }
 },
 "nbformat": 4,
 "nbformat_minor": 5
}
