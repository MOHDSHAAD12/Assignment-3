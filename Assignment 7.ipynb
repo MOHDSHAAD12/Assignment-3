{
 "cells": [
  {
   "cell_type": "markdown",
   "id": "635c0bfe",
   "metadata": {},
   "source": [
    "Q.1. Create two int type variables, apply addition, subtraction, division and multiplications\n",
    "and store the results in variables. Then print the data in the following format by calling the\n",
    "variables:\n",
    "\n",
    "First variable is __ & second variable is __.\n",
    "Addition: __ + __ = __\n",
    "Subtraction: __ - __ = __\n",
    "Multiplication: __ * __ = __\n",
    "Division: __ / __ = __"
   ]
  },
  {
   "cell_type": "code",
   "execution_count": 2,
   "id": "f0247203",
   "metadata": {},
   "outputs": [
    {
     "name": "stdout",
     "output_type": "stream",
     "text": [
      "25\n",
      "15\n",
      "100\n",
      "4.0\n"
     ]
    }
   ],
   "source": [
    "First_variable = 20\n",
    "Second_variable = 5\n",
    "\n",
    "add = First_variable + Second_variable\n",
    "sub = First_variable - Second_variable\n",
    "multi = First_variable * Second_variable\n",
    "divi = First_variable / Second_variable\n",
    "print(add)\n",
    "print(sub)\n",
    "print(multi)\n",
    "print(divi)"
   ]
  },
  {
   "cell_type": "markdown",
   "id": "114a5c76",
   "metadata": {},
   "source": [
    "Q.2. What is the difference between the following operators:\n",
    "(i) ‘/’ & ‘//’\n",
    "(ii) ‘**’ & ‘^’"
   ]
  },
  {
   "cell_type": "markdown",
   "id": "b6ed02f0",
   "metadata": {},
   "source": [
    "Ans: \n",
    "\n",
    "'/' used as division operator it performs divison operator it performs regular division and result can be a floating-point number\n",
    "\n",
    "\n",
    "'//' used as floor division which means it performs division similar to the '/' operator, but it returns the floor of the result, which means it truncates the decimal part of the result and returns an integer.\n",
    "\n",
    "\n",
    "\n",
    "'**': It is used as Exponentiation.\n",
    "'^': It is used as Bitwise XOR.\n"
   ]
  },
  {
   "cell_type": "code",
   "execution_count": 7,
   "id": "aaa1945a",
   "metadata": {},
   "outputs": [
    {
     "name": "stdout",
     "output_type": "stream",
     "text": [
      "6.666666666666667\n",
      "6\n",
      "64\n",
      "7\n"
     ]
    }
   ],
   "source": [
    "#(i)\n",
    "print(20/3)\n",
    "print(20//3)\n",
    "\n",
    "#(ii)\n",
    "print(4**3)\n",
    "print(4^3)"
   ]
  },
  {
   "cell_type": "markdown",
   "id": "6ef39829",
   "metadata": {},
   "source": [
    "Q.3. List the logical operators.\n",
    "\n",
    "Ans:\n",
    "\n",
    "Logical operators in Python are used to combine conditional statements\n",
    "\n",
    "a.  and: Returns True if both statements are true.\n",
    "b.  or: Returns True if one of the statements is true.\n",
    "c.  not: Returns True if the statement is false."
   ]
  },
  {
   "cell_type": "code",
   "execution_count": 8,
   "id": "eced96af",
   "metadata": {},
   "outputs": [
    {
     "name": "stdout",
     "output_type": "stream",
     "text": [
      "True\n",
      "True\n",
      "False\n"
     ]
    }
   ],
   "source": [
    "x = 5\n",
    "y = 10\n",
    "\n",
    "# and operator\n",
    "print(x < 10 and y > 5) \n",
    "\n",
    "# or operator\n",
    "print(x < 3 or y > 5)    \n",
    "\n",
    "# not operator\n",
    "print(not(x > 3))       \n"
   ]
  },
  {
   "cell_type": "markdown",
   "id": "8441eeb5",
   "metadata": {},
   "source": [
    "Q.4. Explain right shift operator and left shift operator with examples.\n",
    "\n",
    "Ans:\n",
    " \n",
    "Right Shift (>>) Operator:\n",
    " \n",
    "The right shift operator (>>) shifts the bits of a number to the right by a specified number of positions.\n",
    "When you shift a number to the right, you effectively divide it by powers of 2.\n",
    "In right shifting, the vacant positions on the left are filled with zeros.\n",
    "\n",
    "Left Shift (<<) Operator:\n",
    "\n",
    "The left shift operator (<<) shifts the bits of a number to the left by a specified number of positions.\n",
    "When you shift a number to the left, you effectively multiply it by powers of 2.\n",
    "In left shifting, the vacant positions on the right are filled with zeros."
   ]
  },
  {
   "cell_type": "code",
   "execution_count": 10,
   "id": "86a9e375",
   "metadata": {},
   "outputs": [
    {
     "name": "stdout",
     "output_type": "stream",
     "text": [
      "2\n",
      "16\n"
     ]
    }
   ],
   "source": [
    "# Right shift operator\n",
    "x = 8\n",
    "shifted = x >> 2\n",
    "print(shifted)\n",
    "\n",
    "\n",
    "# Left shift operator\n",
    "x = 2\n",
    "shifted = x << 3 \n",
    "print(shifted)    \n"
   ]
  },
  {
   "cell_type": "markdown",
   "id": "32bd0708",
   "metadata": {},
   "source": [
    "Q.5. Create a list containing int type data of length 15. Then write a code to check if 10 is\n",
    "present in the list or not."
   ]
  },
  {
   "cell_type": "code",
   "execution_count": 11,
   "id": "47b9aa84",
   "metadata": {},
   "outputs": [
    {
     "name": "stdout",
     "output_type": "stream",
     "text": [
      "10 is present in the list.\n"
     ]
    }
   ],
   "source": [
    "my_list = [3, 7, 1, 15, 8, 10, 5, 12, 6, 9, 2, 4, 11, 14, 13]\n",
    "\n",
    "if 10 in my_list:\n",
    "    print(\"10 is present in the list.\")\n",
    "else:\n",
    "    print(\"10 is not present in the list.\")"
   ]
  },
  {
   "cell_type": "code",
   "execution_count": null,
   "id": "6b8607ba",
   "metadata": {},
   "outputs": [],
   "source": []
  }
 ],
 "metadata": {
  "kernelspec": {
   "display_name": "Python 3 (ipykernel)",
   "language": "python",
   "name": "python3"
  },
  "language_info": {
   "codemirror_mode": {
    "name": "ipython",
    "version": 3
   },
   "file_extension": ".py",
   "mimetype": "text/x-python",
   "name": "python",
   "nbconvert_exporter": "python",
   "pygments_lexer": "ipython3",
   "version": "3.11.5"
  }
 },
 "nbformat": 4,
 "nbformat_minor": 5
}
