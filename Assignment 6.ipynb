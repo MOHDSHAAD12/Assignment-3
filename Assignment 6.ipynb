{
 "cells": [
  {
   "cell_type": "markdown",
   "id": "87f0fdca",
   "metadata": {},
   "source": [
    "Q.1. What are keywords in python? Using the keyword library, print all the python keywords.\n",
    "\n",
    "Ans:\n",
    "\n",
    "   Keywords are reserved words that have special meanings within the Python language. They cannot be used as variable names, function names, or any other identifiers because they perform specific tasks in the interpreter."
   ]
  },
  {
   "cell_type": "code",
   "execution_count": 1,
   "id": "ad18dde7",
   "metadata": {},
   "outputs": [
    {
     "name": "stdout",
     "output_type": "stream",
     "text": [
      "['False', 'None', 'True', 'and', 'as', 'assert', 'async', 'await', 'break', 'class', 'continue', 'def', 'del', 'elif', 'else', 'except', 'finally', 'for', 'from', 'global', 'if', 'import', 'in', 'is', 'lambda', 'nonlocal', 'not', 'or', 'pass', 'raise', 'return', 'try', 'while', 'with', 'yield']\n"
     ]
    }
   ],
   "source": [
    "import keyword\n",
    "\n",
    "keywords = keyword.kwlist\n",
    "print(keywords)"
   ]
  },
  {
   "cell_type": "markdown",
   "id": "1f8f770d",
   "metadata": {},
   "source": [
    "Q.2. What are the rules to create variables in python?\n",
    "\n",
    "Ans:\n",
    "\n",
    "  The rules to create variables in python are\n",
    "a.  Must start with a letter (a-z, A-Z) or an underscore (_).\n",
    "b. Cannot start with a number.\n",
    "c. Can only contain alphanumeric characters (a-z, A-Z, 0-9) and      underscores.\n",
    "d. Python is case-sensitive. age, Age, and AGE are considered different variables.  "
   ]
  },
  {
   "cell_type": "markdown",
   "id": "02430108",
   "metadata": {},
   "source": [
    "Q.3. What are the standards and conventions followed for the nomenclature of variables in\n",
    "python to improve code readability and maintainability?\n",
    "\n",
    "Ans:\n",
    "\n",
    "In Python, while there are strict rules for creating variable names, there are also established conventions to enhance code readability and maintainability. Here are the key standards and conventions followed for variable nomenclature:\n",
    "\n",
    "1. Use Descriptive Names:\n",
    "\n",
    "Choose names that clearly convey the meaning and purpose of the variable. Avoid single-letter names (x, y) unless they have a universally understood context (e.g., loop counters).\n",
    "Examples: total_sales, customer_email, is_admin.\n",
    "\n",
    "\n",
    "\n",
    "2. Use (lowercase_with_underscores):\n",
    "\n",
    "This is the most widely used and recommended naming convention in Python.\n",
    "Separate words with underscores to improve readability.\n",
    "Examples: customer_name, order_id, is_valid_input.\n",
    "\n",
    "\n",
    "3. Avoid Abbreviations (unless widely understood):\n",
    "\n",
    "If an abbreviation is not commonly known (e.g., HTTP, JSON), use the full name for clarity.\n",
    "Consider using uppercase for well-established abbreviations (e.g., HTMLParser, URLopener).\n",
    "\n",
    "4. Consistency:\n",
    "\n",
    "Maintain a consistent naming style throughout your codebase. This makes the code easier to understand for yourself and others.\n",
    "5. Special Cases:\n",
    "\n",
    "\n",
    "Use uppercase for constants (variables whose values shouldn't change) by convention. However, Python doesn't enforce this rule.\n",
    "Examples: PI = 3.14159, MAX_TRIES = 5.\n",
    "Leading underscores (_) are sometimes used for internal variables or to avoid naming conflicts with built-in functions or keywords. However, use this sparingly as it can indicate private variables (not meant to be accessed outside their scope).\n",
    "  "
   ]
  },
  {
   "cell_type": "markdown",
   "id": "e0ec09d0",
   "metadata": {},
   "source": [
    "Q.4. What will happen if a keyword is used as a variable name?\n",
    "\n",
    "Ans:\n",
    "  If a keyword is used as a viariable name in python it will show a syntax error."
   ]
  },
  {
   "cell_type": "code",
   "execution_count": 2,
   "id": "3cfb81cb",
   "metadata": {},
   "outputs": [
    {
     "ename": "SyntaxError",
     "evalue": "cannot assign to None (2570782590.py, line 1)",
     "output_type": "error",
     "traceback": [
      "\u001b[1;36m  Cell \u001b[1;32mIn[2], line 1\u001b[1;36m\u001b[0m\n\u001b[1;33m    None = 5\u001b[0m\n\u001b[1;37m    ^\u001b[0m\n\u001b[1;31mSyntaxError\u001b[0m\u001b[1;31m:\u001b[0m cannot assign to None\n"
     ]
    }
   ],
   "source": [
    "None = 5\n",
    "print(None)"
   ]
  },
  {
   "cell_type": "markdown",
   "id": "36a2aeae",
   "metadata": {},
   "source": [
    "Q.5. For what purpose def keyword is used?\n",
    "\n",
    "Ans:\n",
    "The def keyword in Python is used to define a function."
   ]
  },
  {
   "cell_type": "markdown",
   "id": "dfff83da",
   "metadata": {},
   "source": [
    "Q.6. What is the operation of this special character ‘\\’?\n",
    "\n",
    "Ans:\n",
    "The backslash (\\) in Python is a special character called an escape character. It has saveral opertions and uses.\n",
    "for examples.\n",
    "a. We can use (\\) to escape sequences \n",
    "b. We can use as a multiline statements\n"
   ]
  },
  {
   "cell_type": "markdown",
   "id": "f3a3632c",
   "metadata": {},
   "source": [
    "Q.7. Give an example of the following conditions:\n",
    "(i) Homogeneous list\n",
    "(ii) Heterogeneous set\n",
    "(iii) Homogeneous tuple\n",
    "\n",
    "Ans:\n",
    "(i) Homogeneous list: In a homogeneous list, all elements have the same data type.\n",
    "(ii) Heterogeneous set: In a heterogeneous set, elements can have different data types, but each element is unique.\n",
    "(iii) Homogeneous tuple: In a homogeneous tuple, all elements have the same data type.\n",
    "\n"
   ]
  },
  {
   "cell_type": "code",
   "execution_count": 3,
   "id": "ad1e378a",
   "metadata": {},
   "outputs": [
    {
     "name": "stdout",
     "output_type": "stream",
     "text": [
      "[1, 2, 3, 4, 5]\n",
      "['apple', 'banana', 'cherry', 'date']\n"
     ]
    }
   ],
   "source": [
    "# Example of a homogeneous list containing integers\n",
    "\n",
    "homogeneous_list_int = [1, 2, 3, 4, 5]\n",
    "print(homogeneous_list_int) \n",
    "\n",
    "# Example of a homogeneous list containing strings\n",
    "\n",
    "homogeneous_list_str = [\"apple\", \"banana\", \"cherry\", \"date\"]\n",
    "print(homogeneous_list_str)\n"
   ]
  },
  {
   "cell_type": "code",
   "execution_count": 4,
   "id": "dafef09b",
   "metadata": {},
   "outputs": [
    {
     "name": "stdout",
     "output_type": "stream",
     "text": [
      "{1, 'apple', 3.14}\n"
     ]
    }
   ],
   "source": [
    "# Example of a heterogeneous set containing integers, strings, and floats\n",
    "\n",
    "heterogeneous_set = {1, \"apple\", 3.14}\n",
    "print(heterogeneous_set)  \n",
    "\n"
   ]
  },
  {
   "cell_type": "code",
   "execution_count": 5,
   "id": "0e630c76",
   "metadata": {},
   "outputs": [
    {
     "name": "stdout",
     "output_type": "stream",
     "text": [
      "(1, 2, 3, 4, 5)\n",
      "('apple', 'banana', 'cherry', 'date')\n"
     ]
    }
   ],
   "source": [
    "# Example of a homogeneous tuple containing integers\n",
    "homogeneous_tuple_int = (1, 2, 3, 4, 5)\n",
    "print(homogeneous_tuple_int)  \n",
    "\n",
    "# Example of a homogeneous tuple containing strings\n",
    "homogeneous_tuple_str = (\"apple\", \"banana\", \"cherry\", \"date\")\n",
    "print(homogeneous_tuple_str)\n"
   ]
  },
  {
   "cell_type": "markdown",
   "id": "994e3b05",
   "metadata": {},
   "source": [
    "Q.8. Explain the mutable and immutable data types with proper explanation & examples.\n",
    "Ans:\n",
    "\n",
    "Mutable Data Types:\n",
    "                 Mutable data types are those whose values can be modified after creation.\n",
    "                 \n",
    "Immutable Data Types:\n",
    "                  Immutable data types, on the other hand, are those whose values cannot be changed after creation."
   ]
  },
  {
   "cell_type": "code",
   "execution_count": 6,
   "id": "6e8112f2",
   "metadata": {},
   "outputs": [
    {
     "name": "stdout",
     "output_type": "stream",
     "text": [
      "Original list: [1, 2, 3, 4, 5]\n",
      "Modified list: [10, 2, 3, 4, 5]\n"
     ]
    }
   ],
   "source": [
    "# Mutable Data type\n",
    "my_list = [1, 2, 3, 4, 5]\n",
    "print(\"Original list:\", my_list) \n",
    "\n",
    "# Modifying the list\n",
    "my_list[0] = 10\n",
    "print(\"Modified list:\", my_list)\n"
   ]
  },
  {
   "cell_type": "code",
   "execution_count": 8,
   "id": "29e7ddd1",
   "metadata": {},
   "outputs": [
    {
     "name": "stdout",
     "output_type": "stream",
     "text": [
      "Original tuple: (1, 2, 3, 4, 5)\n"
     ]
    },
    {
     "ename": "TypeError",
     "evalue": "'tuple' object does not support item assignment",
     "output_type": "error",
     "traceback": [
      "\u001b[1;31m---------------------------------------------------------------------------\u001b[0m",
      "\u001b[1;31mTypeError\u001b[0m                                 Traceback (most recent call last)",
      "Cell \u001b[1;32mIn[8], line 6\u001b[0m\n\u001b[0;32m      3\u001b[0m \u001b[38;5;28mprint\u001b[39m(\u001b[38;5;124m\"\u001b[39m\u001b[38;5;124mOriginal tuple:\u001b[39m\u001b[38;5;124m\"\u001b[39m, my_tuple) \n\u001b[0;32m      5\u001b[0m \u001b[38;5;66;03m# Attempting to modify the tuple (will result in an error)\u001b[39;00m\n\u001b[1;32m----> 6\u001b[0m my_tuple[\u001b[38;5;241m0\u001b[39m] \u001b[38;5;241m=\u001b[39m \u001b[38;5;241m10\u001b[39m\n",
      "\u001b[1;31mTypeError\u001b[0m: 'tuple' object does not support item assignment"
     ]
    }
   ],
   "source": [
    "# Immutable Data Types\n",
    "my_tuple = (1, 2, 3, 4, 5)\n",
    "print(\"Original tuple:\", my_tuple) \n",
    "\n",
    "# Attempting to modify the tuple (will result in an error)\n",
    "my_tuple[0] = 10  \n"
   ]
  },
  {
   "cell_type": "markdown",
   "id": "51eb14be",
   "metadata": {},
   "source": [
    "Q.9. Write a code to create the given structure using only for loop.\n",
    "\n",
    "\n",
    "*\n",
    "***\n",
    "*****\n",
    "*******\n",
    "*********"
   ]
  },
  {
   "cell_type": "code",
   "execution_count": 9,
   "id": "42bc8e76",
   "metadata": {},
   "outputs": [
    {
     "name": "stdout",
     "output_type": "stream",
     "text": [
      "*\n",
      "***\n",
      "*****\n",
      "*******\n",
      "*********\n"
     ]
    }
   ],
   "source": [
    "rows = 5\n",
    "\n",
    "for i in range(rows):\n",
    "    for j in range(2*i+1):\n",
    "        print(\"*\", end=\"\")\n",
    "    print()\n",
    "\n"
   ]
  },
  {
   "cell_type": "markdown",
   "id": "d12cef30",
   "metadata": {},
   "source": [
    "Q.10. Write a code to create the given structure using while loop.\n",
    "\n",
    "\n",
    "|||||||||\n",
    "|||||||\n",
    "|||||\n",
    "|||\n",
    "|"
   ]
  },
  {
   "cell_type": "code",
   "execution_count": 12,
   "id": "39d8e791",
   "metadata": {},
   "outputs": [
    {
     "name": "stdout",
     "output_type": "stream",
     "text": [
      "|||||||||\n",
      "|||||||\n",
      "|||||\n",
      "|||\n",
      "|\n"
     ]
    }
   ],
   "source": [
    "row_count = 5\n",
    "\n",
    "while row_count > 0:\n",
    "    print(\"|\" * (row_count * 2 - 1))\n",
    "    row_count -= 1\n",
    "\n"
   ]
  },
  {
   "cell_type": "code",
   "execution_count": null,
   "id": "ecf77e8d",
   "metadata": {},
   "outputs": [],
   "source": []
  }
 ],
 "metadata": {
  "kernelspec": {
   "display_name": "Python 3 (ipykernel)",
   "language": "python",
   "name": "python3"
  },
  "language_info": {
   "codemirror_mode": {
    "name": "ipython",
    "version": 3
   },
   "file_extension": ".py",
   "mimetype": "text/x-python",
   "name": "python",
   "nbconvert_exporter": "python",
   "pygments_lexer": "ipython3",
   "version": "3.11.5"
  }
 },
 "nbformat": 4,
 "nbformat_minor": 5
}
